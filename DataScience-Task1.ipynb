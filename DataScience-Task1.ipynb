{
  "nbformat": 4,
  "nbformat_minor": 0,
  "metadata": {
    "kernelspec": {
      "display_name": "Python 3",
      "language": "python",
      "name": "python3"
    },
    "language_info": {
      "codemirror_mode": {
        "name": "ipython",
        "version": 3
      },
      "file_extension": ".py",
      "mimetype": "text/x-python",
      "name": "python",
      "nbconvert_exporter": "python",
      "pygments_lexer": "ipython3",
      "version": "3.8.3-final"
    },
    "colab": {
      "name": "DataScience.ipynb",
      "provenance": [],
      "collapsed_sections": [
        "niXeaDhabsTn"
      ],
      "include_colab_link": true
    }
  },
  "cells": [
    {
      "cell_type": "markdown",
      "metadata": {
        "id": "view-in-github",
        "colab_type": "text"
      },
      "source": [
        "<a href=\"https://colab.research.google.com/github/rushilg13/Skillship-Task-1/blob/main/DataScience-Task1.ipynb\" target=\"_parent\"><img src=\"https://colab.research.google.com/assets/colab-badge.svg\" alt=\"Open In Colab\"/></a>"
      ]
    },
    {
      "cell_type": "markdown",
      "metadata": {
        "id": "yuU3Y0bybsS0"
      },
      "source": [
        "\n",
        "# Review: Medical Appointment No Shows\n",
        "\n",
        "## Table of Contents\n",
        "<ul>\n",
        "<li><a href=\"#intro\">Introduction</a></li>\n",
        "<li><a href=\"#wrangling\">Data Wrangling</a></li>\n",
        "<li><a href=\"#cleaning\">Data Cleaning</a></li>"
      ]
    },
    {
      "cell_type": "markdown",
      "metadata": {
        "id": "y9rIX4oibsS1"
      },
      "source": [
        "<a id='intro'></a>\n",
        "## Introduction\n",
        "\n",
        "> * The data set is Medical Appointment No shows. <br>\n",
        "> * The data set variables are self explanatory. The variables in the data set are 'Patient ID', 'AppointmentID', 'Gender', 'ScheduleDay', 'AppointmentDay', 'Age', 'Neighbourhood', 'Scholarship', 'Hipertension', 'Diabetes', 'Alcoholism', 'Handcap', 'SMS_received', 'No-Show'. <br>\n",
        "> * No-Show as Yes corresponds to people who did not turn up for the doctor visit and No-Show as No turned up for the doctor visit."
      ]
    },
    {
      "cell_type": "markdown",
      "metadata": {
        "id": "ImVHmu8QbsS2"
      },
      "source": [
        "## Important information:\n",
        "\n",
        "1. Explain your findings and the steps you've followed using the Markdown cells. Create Markdown cells wherever necessary\n",
        "2. Double-click the markdown cells to edit them and add your inferences\n",
        "3. Add necessary code cells for your task. You are not restricted to the cells created before hand.\n"
      ]
    },
    {
      "cell_type": "markdown",
      "metadata": {
        "id": "wB7nrrKFbsS3"
      },
      "source": [
        "### Steps to be followed:\n",
        "1. Load the data\n",
        "2. Variable Identification.\n",
        "3. Check for cleanliness.\n",
        "4. Trim and clean the data.\n",
        "5. Feature Selection.\n",
        "6. Modification of features if needed.\n"
      ]
    },
    {
      "cell_type": "code",
      "metadata": {
        "id": "zI5QoYLjbsS3"
      },
      "source": [
        "# Use this cell to set up import statements for all of the packages that you\n",
        "#   plan to use.\n",
        "import pandas as pd \n",
        "import numpy as np \n",
        "import seaborn as sb\n"
      ],
      "execution_count": 141,
      "outputs": []
    },
    {
      "cell_type": "markdown",
      "metadata": {
        "id": "Knny2Fp3bsS7"
      },
      "source": [
        "<a id='wrangling'></a>\n",
        "## Data Wrangling\n",
        "\n",
        "> **Tip**: In this section of the report, you will load in the data, check for cleanliness, and then trim and clean your dataset for analysis. Make sure that you document your steps carefully and justify your cleaning decisions.\n",
        "\n",
        "### Loading the data"
      ]
    },
    {
      "cell_type": "code",
      "metadata": {
        "scrolled": true,
        "id": "huoaHx8obsS8",
        "outputId": "f3dfcbcc-58a5-47ad-863a-072ca7d5ef35",
        "colab": {
          "resources": {
            "http://localhost:8080/nbextensions/google.colab/files.js": {
              "data": "Ly8gQ29weXJpZ2h0IDIwMTcgR29vZ2xlIExMQwovLwovLyBMaWNlbnNlZCB1bmRlciB0aGUgQXBhY2hlIExpY2Vuc2UsIFZlcnNpb24gMi4wICh0aGUgIkxpY2Vuc2UiKTsKLy8geW91IG1heSBub3QgdXNlIHRoaXMgZmlsZSBleGNlcHQgaW4gY29tcGxpYW5jZSB3aXRoIHRoZSBMaWNlbnNlLgovLyBZb3UgbWF5IG9idGFpbiBhIGNvcHkgb2YgdGhlIExpY2Vuc2UgYXQKLy8KLy8gICAgICBodHRwOi8vd3d3LmFwYWNoZS5vcmcvbGljZW5zZXMvTElDRU5TRS0yLjAKLy8KLy8gVW5sZXNzIHJlcXVpcmVkIGJ5IGFwcGxpY2FibGUgbGF3IG9yIGFncmVlZCB0byBpbiB3cml0aW5nLCBzb2Z0d2FyZQovLyBkaXN0cmlidXRlZCB1bmRlciB0aGUgTGljZW5zZSBpcyBkaXN0cmlidXRlZCBvbiBhbiAiQVMgSVMiIEJBU0lTLAovLyBXSVRIT1VUIFdBUlJBTlRJRVMgT1IgQ09ORElUSU9OUyBPRiBBTlkgS0lORCwgZWl0aGVyIGV4cHJlc3Mgb3IgaW1wbGllZC4KLy8gU2VlIHRoZSBMaWNlbnNlIGZvciB0aGUgc3BlY2lmaWMgbGFuZ3VhZ2UgZ292ZXJuaW5nIHBlcm1pc3Npb25zIGFuZAovLyBsaW1pdGF0aW9ucyB1bmRlciB0aGUgTGljZW5zZS4KCi8qKgogKiBAZmlsZW92ZXJ2aWV3IEhlbHBlcnMgZm9yIGdvb2dsZS5jb2xhYiBQeXRob24gbW9kdWxlLgogKi8KKGZ1bmN0aW9uKHNjb3BlKSB7CmZ1bmN0aW9uIHNwYW4odGV4dCwgc3R5bGVBdHRyaWJ1dGVzID0ge30pIHsKICBjb25zdCBlbGVtZW50ID0gZG9jdW1lbnQuY3JlYXRlRWxlbWVudCgnc3BhbicpOwogIGVsZW1lbnQudGV4dENvbnRlbnQgPSB0ZXh0OwogIGZvciAoY29uc3Qga2V5IG9mIE9iamVjdC5rZXlzKHN0eWxlQXR0cmlidXRlcykpIHsKICAgIGVsZW1lbnQuc3R5bGVba2V5XSA9IHN0eWxlQXR0cmlidXRlc1trZXldOwogIH0KICByZXR1cm4gZWxlbWVudDsKfQoKLy8gTWF4IG51bWJlciBvZiBieXRlcyB3aGljaCB3aWxsIGJlIHVwbG9hZGVkIGF0IGEgdGltZS4KY29uc3QgTUFYX1BBWUxPQURfU0laRSA9IDEwMCAqIDEwMjQ7CgpmdW5jdGlvbiBfdXBsb2FkRmlsZXMoaW5wdXRJZCwgb3V0cHV0SWQpIHsKICBjb25zdCBzdGVwcyA9IHVwbG9hZEZpbGVzU3RlcChpbnB1dElkLCBvdXRwdXRJZCk7CiAgY29uc3Qgb3V0cHV0RWxlbWVudCA9IGRvY3VtZW50LmdldEVsZW1lbnRCeUlkKG91dHB1dElkKTsKICAvLyBDYWNoZSBzdGVwcyBvbiB0aGUgb3V0cHV0RWxlbWVudCB0byBtYWtlIGl0IGF2YWlsYWJsZSBmb3IgdGhlIG5leHQgY2FsbAogIC8vIHRvIHVwbG9hZEZpbGVzQ29udGludWUgZnJvbSBQeXRob24uCiAgb3V0cHV0RWxlbWVudC5zdGVwcyA9IHN0ZXBzOwoKICByZXR1cm4gX3VwbG9hZEZpbGVzQ29udGludWUob3V0cHV0SWQpOwp9CgovLyBUaGlzIGlzIHJvdWdobHkgYW4gYXN5bmMgZ2VuZXJhdG9yIChub3Qgc3VwcG9ydGVkIGluIHRoZSBicm93c2VyIHlldCksCi8vIHdoZXJlIHRoZXJlIGFyZSBtdWx0aXBsZSBhc3luY2hyb25vdXMgc3RlcHMgYW5kIHRoZSBQeXRob24gc2lkZSBpcyBnb2luZwovLyB0byBwb2xsIGZvciBjb21wbGV0aW9uIG9mIGVhY2ggc3RlcC4KLy8gVGhpcyB1c2VzIGEgUHJvbWlzZSB0byBibG9jayB0aGUgcHl0aG9uIHNpZGUgb24gY29tcGxldGlvbiBvZiBlYWNoIHN0ZXAsCi8vIHRoZW4gcGFzc2VzIHRoZSByZXN1bHQgb2YgdGhlIHByZXZpb3VzIHN0ZXAgYXMgdGhlIGlucHV0IHRvIHRoZSBuZXh0IHN0ZXAuCmZ1bmN0aW9uIF91cGxvYWRGaWxlc0NvbnRpbnVlKG91dHB1dElkKSB7CiAgY29uc3Qgb3V0cHV0RWxlbWVudCA9IGRvY3VtZW50LmdldEVsZW1lbnRCeUlkKG91dHB1dElkKTsKICBjb25zdCBzdGVwcyA9IG91dHB1dEVsZW1lbnQuc3RlcHM7CgogIGNvbnN0IG5leHQgPSBzdGVwcy5uZXh0KG91dHB1dEVsZW1lbnQubGFzdFByb21pc2VWYWx1ZSk7CiAgcmV0dXJuIFByb21pc2UucmVzb2x2ZShuZXh0LnZhbHVlLnByb21pc2UpLnRoZW4oKHZhbHVlKSA9PiB7CiAgICAvLyBDYWNoZSB0aGUgbGFzdCBwcm9taXNlIHZhbHVlIHRvIG1ha2UgaXQgYXZhaWxhYmxlIHRvIHRoZSBuZXh0CiAgICAvLyBzdGVwIG9mIHRoZSBnZW5lcmF0b3IuCiAgICBvdXRwdXRFbGVtZW50Lmxhc3RQcm9taXNlVmFsdWUgPSB2YWx1ZTsKICAgIHJldHVybiBuZXh0LnZhbHVlLnJlc3BvbnNlOwogIH0pOwp9CgovKioKICogR2VuZXJhdG9yIGZ1bmN0aW9uIHdoaWNoIGlzIGNhbGxlZCBiZXR3ZWVuIGVhY2ggYXN5bmMgc3RlcCBvZiB0aGUgdXBsb2FkCiAqIHByb2Nlc3MuCiAqIEBwYXJhbSB7c3RyaW5nfSBpbnB1dElkIEVsZW1lbnQgSUQgb2YgdGhlIGlucHV0IGZpbGUgcGlja2VyIGVsZW1lbnQuCiAqIEBwYXJhbSB7c3RyaW5nfSBvdXRwdXRJZCBFbGVtZW50IElEIG9mIHRoZSBvdXRwdXQgZGlzcGxheS4KICogQHJldHVybiB7IUl0ZXJhYmxlPCFPYmplY3Q+fSBJdGVyYWJsZSBvZiBuZXh0IHN0ZXBzLgogKi8KZnVuY3Rpb24qIHVwbG9hZEZpbGVzU3RlcChpbnB1dElkLCBvdXRwdXRJZCkgewogIGNvbnN0IGlucHV0RWxlbWVudCA9IGRvY3VtZW50LmdldEVsZW1lbnRCeUlkKGlucHV0SWQpOwogIGlucHV0RWxlbWVudC5kaXNhYmxlZCA9IGZhbHNlOwoKICBjb25zdCBvdXRwdXRFbGVtZW50ID0gZG9jdW1lbnQuZ2V0RWxlbWVudEJ5SWQob3V0cHV0SWQpOwogIG91dHB1dEVsZW1lbnQuaW5uZXJIVE1MID0gJyc7CgogIGNvbnN0IHBpY2tlZFByb21pc2UgPSBuZXcgUHJvbWlzZSgocmVzb2x2ZSkgPT4gewogICAgaW5wdXRFbGVtZW50LmFkZEV2ZW50TGlzdGVuZXIoJ2NoYW5nZScsIChlKSA9PiB7CiAgICAgIHJlc29sdmUoZS50YXJnZXQuZmlsZXMpOwogICAgfSk7CiAgfSk7CgogIGNvbnN0IGNhbmNlbCA9IGRvY3VtZW50LmNyZWF0ZUVsZW1lbnQoJ2J1dHRvbicpOwogIGlucHV0RWxlbWVudC5wYXJlbnRFbGVtZW50LmFwcGVuZENoaWxkKGNhbmNlbCk7CiAgY2FuY2VsLnRleHRDb250ZW50ID0gJ0NhbmNlbCB1cGxvYWQnOwogIGNvbnN0IGNhbmNlbFByb21pc2UgPSBuZXcgUHJvbWlzZSgocmVzb2x2ZSkgPT4gewogICAgY2FuY2VsLm9uY2xpY2sgPSAoKSA9PiB7CiAgICAgIHJlc29sdmUobnVsbCk7CiAgICB9OwogIH0pOwoKICAvLyBXYWl0IGZvciB0aGUgdXNlciB0byBwaWNrIHRoZSBmaWxlcy4KICBjb25zdCBmaWxlcyA9IHlpZWxkIHsKICAgIHByb21pc2U6IFByb21pc2UucmFjZShbcGlja2VkUHJvbWlzZSwgY2FuY2VsUHJvbWlzZV0pLAogICAgcmVzcG9uc2U6IHsKICAgICAgYWN0aW9uOiAnc3RhcnRpbmcnLAogICAgfQogIH07CgogIGNhbmNlbC5yZW1vdmUoKTsKCiAgLy8gRGlzYWJsZSB0aGUgaW5wdXQgZWxlbWVudCBzaW5jZSBmdXJ0aGVyIHBpY2tzIGFyZSBub3QgYWxsb3dlZC4KICBpbnB1dEVsZW1lbnQuZGlzYWJsZWQgPSB0cnVlOwoKICBpZiAoIWZpbGVzKSB7CiAgICByZXR1cm4gewogICAgICByZXNwb25zZTogewogICAgICAgIGFjdGlvbjogJ2NvbXBsZXRlJywKICAgICAgfQogICAgfTsKICB9CgogIGZvciAoY29uc3QgZmlsZSBvZiBmaWxlcykgewogICAgY29uc3QgbGkgPSBkb2N1bWVudC5jcmVhdGVFbGVtZW50KCdsaScpOwogICAgbGkuYXBwZW5kKHNwYW4oZmlsZS5uYW1lLCB7Zm9udFdlaWdodDogJ2JvbGQnfSkpOwogICAgbGkuYXBwZW5kKHNwYW4oCiAgICAgICAgYCgke2ZpbGUudHlwZSB8fCAnbi9hJ30pIC0gJHtmaWxlLnNpemV9IGJ5dGVzLCBgICsKICAgICAgICBgbGFzdCBtb2RpZmllZDogJHsKICAgICAgICAgICAgZmlsZS5sYXN0TW9kaWZpZWREYXRlID8gZmlsZS5sYXN0TW9kaWZpZWREYXRlLnRvTG9jYWxlRGF0ZVN0cmluZygpIDoKICAgICAgICAgICAgICAgICAgICAgICAgICAgICAgICAgICAgJ24vYSd9IC0gYCkpOwogICAgY29uc3QgcGVyY2VudCA9IHNwYW4oJzAlIGRvbmUnKTsKICAgIGxpLmFwcGVuZENoaWxkKHBlcmNlbnQpOwoKICAgIG91dHB1dEVsZW1lbnQuYXBwZW5kQ2hpbGQobGkpOwoKICAgIGNvbnN0IGZpbGVEYXRhUHJvbWlzZSA9IG5ldyBQcm9taXNlKChyZXNvbHZlKSA9PiB7CiAgICAgIGNvbnN0IHJlYWRlciA9IG5ldyBGaWxlUmVhZGVyKCk7CiAgICAgIHJlYWRlci5vbmxvYWQgPSAoZSkgPT4gewogICAgICAgIHJlc29sdmUoZS50YXJnZXQucmVzdWx0KTsKICAgICAgfTsKICAgICAgcmVhZGVyLnJlYWRBc0FycmF5QnVmZmVyKGZpbGUpOwogICAgfSk7CiAgICAvLyBXYWl0IGZvciB0aGUgZGF0YSB0byBiZSByZWFkeS4KICAgIGxldCBmaWxlRGF0YSA9IHlpZWxkIHsKICAgICAgcHJvbWlzZTogZmlsZURhdGFQcm9taXNlLAogICAgICByZXNwb25zZTogewogICAgICAgIGFjdGlvbjogJ2NvbnRpbnVlJywKICAgICAgfQogICAgfTsKCiAgICAvLyBVc2UgYSBjaHVua2VkIHNlbmRpbmcgdG8gYXZvaWQgbWVzc2FnZSBzaXplIGxpbWl0cy4gU2VlIGIvNjIxMTU2NjAuCiAgICBsZXQgcG9zaXRpb24gPSAwOwogICAgd2hpbGUgKHBvc2l0aW9uIDwgZmlsZURhdGEuYnl0ZUxlbmd0aCkgewogICAgICBjb25zdCBsZW5ndGggPSBNYXRoLm1pbihmaWxlRGF0YS5ieXRlTGVuZ3RoIC0gcG9zaXRpb24sIE1BWF9QQVlMT0FEX1NJWkUpOwogICAgICBjb25zdCBjaHVuayA9IG5ldyBVaW50OEFycmF5KGZpbGVEYXRhLCBwb3NpdGlvbiwgbGVuZ3RoKTsKICAgICAgcG9zaXRpb24gKz0gbGVuZ3RoOwoKICAgICAgY29uc3QgYmFzZTY0ID0gYnRvYShTdHJpbmcuZnJvbUNoYXJDb2RlLmFwcGx5KG51bGwsIGNodW5rKSk7CiAgICAgIHlpZWxkIHsKICAgICAgICByZXNwb25zZTogewogICAgICAgICAgYWN0aW9uOiAnYXBwZW5kJywKICAgICAgICAgIGZpbGU6IGZpbGUubmFtZSwKICAgICAgICAgIGRhdGE6IGJhc2U2NCwKICAgICAgICB9LAogICAgICB9OwogICAgICBwZXJjZW50LnRleHRDb250ZW50ID0KICAgICAgICAgIGAke01hdGgucm91bmQoKHBvc2l0aW9uIC8gZmlsZURhdGEuYnl0ZUxlbmd0aCkgKiAxMDApfSUgZG9uZWA7CiAgICB9CiAgfQoKICAvLyBBbGwgZG9uZS4KICB5aWVsZCB7CiAgICByZXNwb25zZTogewogICAgICBhY3Rpb246ICdjb21wbGV0ZScsCiAgICB9CiAgfTsKfQoKc2NvcGUuZ29vZ2xlID0gc2NvcGUuZ29vZ2xlIHx8IHt9OwpzY29wZS5nb29nbGUuY29sYWIgPSBzY29wZS5nb29nbGUuY29sYWIgfHwge307CnNjb3BlLmdvb2dsZS5jb2xhYi5fZmlsZXMgPSB7CiAgX3VwbG9hZEZpbGVzLAogIF91cGxvYWRGaWxlc0NvbnRpbnVlLAp9Owp9KShzZWxmKTsK",
              "ok": true,
              "headers": [
                [
                  "content-type",
                  "application/javascript"
                ]
              ],
              "status": 200,
              "status_text": ""
            }
          },
          "base_uri": "https://localhost:8080/",
          "height": 73
        }
      },
      "source": [
        "# Load your data and print out a few lines. Perform operations to inspect data types and look for instances of missing or possibly errant data.\n",
        "from google.colab import files\n",
        "uploaded = files.upload()\n"
      ],
      "execution_count": 144,
      "outputs": [
        {
          "output_type": "display_data",
          "data": {
            "text/html": [
              "\n",
              "     <input type=\"file\" id=\"files-e306a6e8-4875-418a-ad3f-3600edc2f797\" name=\"files[]\" multiple disabled\n",
              "        style=\"border:none\" />\n",
              "     <output id=\"result-e306a6e8-4875-418a-ad3f-3600edc2f797\">\n",
              "      Upload widget is only available when the cell has been executed in the\n",
              "      current browser session. Please rerun this cell to enable.\n",
              "      </output>\n",
              "      <script src=\"/nbextensions/google.colab/files.js\"></script> "
            ],
            "text/plain": [
              "<IPython.core.display.HTML object>"
            ]
          },
          "metadata": {
            "tags": []
          }
        },
        {
          "output_type": "stream",
          "text": [
            "Saving KaggleV2-May-2016.csv to KaggleV2-May-2016 (1).csv\n"
          ],
          "name": "stdout"
        }
      ]
    },
    {
      "cell_type": "code",
      "metadata": {
        "id": "7iQEi5n0ee3q"
      },
      "source": [
        "import io\n",
        "df= pd.read_csv(io.BytesIO(uploaded['KaggleV2-May-2016.csv']))\n",
        "\n",
        "# Dataset is now stored in a Pandas Dataframe"
      ],
      "execution_count": 145,
      "outputs": []
    },
    {
      "cell_type": "code",
      "metadata": {
        "id": "sgN3g0WqeftA",
        "outputId": "ea5f54f9-dd19-408f-fdf2-4f9b486947db",
        "colab": {
          "base_uri": "https://localhost:8080/",
          "height": 296
        }
      },
      "source": [
        "df.head() # Print a few lines"
      ],
      "execution_count": 146,
      "outputs": [
        {
          "output_type": "execute_result",
          "data": {
            "text/html": [
              "<div>\n",
              "<style scoped>\n",
              "    .dataframe tbody tr th:only-of-type {\n",
              "        vertical-align: middle;\n",
              "    }\n",
              "\n",
              "    .dataframe tbody tr th {\n",
              "        vertical-align: top;\n",
              "    }\n",
              "\n",
              "    .dataframe thead th {\n",
              "        text-align: right;\n",
              "    }\n",
              "</style>\n",
              "<table border=\"1\" class=\"dataframe\">\n",
              "  <thead>\n",
              "    <tr style=\"text-align: right;\">\n",
              "      <th></th>\n",
              "      <th>PatientId</th>\n",
              "      <th>AppointmentID</th>\n",
              "      <th>Gender</th>\n",
              "      <th>ScheduledDay</th>\n",
              "      <th>AppointmentDay</th>\n",
              "      <th>Age</th>\n",
              "      <th>Neighbourhood</th>\n",
              "      <th>Scholarship</th>\n",
              "      <th>Hipertension</th>\n",
              "      <th>Diabetes</th>\n",
              "      <th>Alcoholism</th>\n",
              "      <th>Handcap</th>\n",
              "      <th>SMS_received</th>\n",
              "      <th>No-show</th>\n",
              "    </tr>\n",
              "  </thead>\n",
              "  <tbody>\n",
              "    <tr>\n",
              "      <th>0</th>\n",
              "      <td>2.987250e+13</td>\n",
              "      <td>5642903</td>\n",
              "      <td>F</td>\n",
              "      <td>2016-04-29T18:38:08Z</td>\n",
              "      <td>2016-04-29T00:00:00Z</td>\n",
              "      <td>62</td>\n",
              "      <td>JARDIM DA PENHA</td>\n",
              "      <td>0</td>\n",
              "      <td>1</td>\n",
              "      <td>0</td>\n",
              "      <td>0</td>\n",
              "      <td>0</td>\n",
              "      <td>0</td>\n",
              "      <td>No</td>\n",
              "    </tr>\n",
              "    <tr>\n",
              "      <th>1</th>\n",
              "      <td>5.589978e+14</td>\n",
              "      <td>5642503</td>\n",
              "      <td>M</td>\n",
              "      <td>2016-04-29T16:08:27Z</td>\n",
              "      <td>2016-04-29T00:00:00Z</td>\n",
              "      <td>56</td>\n",
              "      <td>JARDIM DA PENHA</td>\n",
              "      <td>0</td>\n",
              "      <td>0</td>\n",
              "      <td>0</td>\n",
              "      <td>0</td>\n",
              "      <td>0</td>\n",
              "      <td>0</td>\n",
              "      <td>No</td>\n",
              "    </tr>\n",
              "    <tr>\n",
              "      <th>2</th>\n",
              "      <td>4.262962e+12</td>\n",
              "      <td>5642549</td>\n",
              "      <td>F</td>\n",
              "      <td>2016-04-29T16:19:04Z</td>\n",
              "      <td>2016-04-29T00:00:00Z</td>\n",
              "      <td>62</td>\n",
              "      <td>MATA DA PRAIA</td>\n",
              "      <td>0</td>\n",
              "      <td>0</td>\n",
              "      <td>0</td>\n",
              "      <td>0</td>\n",
              "      <td>0</td>\n",
              "      <td>0</td>\n",
              "      <td>No</td>\n",
              "    </tr>\n",
              "    <tr>\n",
              "      <th>3</th>\n",
              "      <td>8.679512e+11</td>\n",
              "      <td>5642828</td>\n",
              "      <td>F</td>\n",
              "      <td>2016-04-29T17:29:31Z</td>\n",
              "      <td>2016-04-29T00:00:00Z</td>\n",
              "      <td>8</td>\n",
              "      <td>PONTAL DE CAMBURI</td>\n",
              "      <td>0</td>\n",
              "      <td>0</td>\n",
              "      <td>0</td>\n",
              "      <td>0</td>\n",
              "      <td>0</td>\n",
              "      <td>0</td>\n",
              "      <td>No</td>\n",
              "    </tr>\n",
              "    <tr>\n",
              "      <th>4</th>\n",
              "      <td>8.841186e+12</td>\n",
              "      <td>5642494</td>\n",
              "      <td>F</td>\n",
              "      <td>2016-04-29T16:07:23Z</td>\n",
              "      <td>2016-04-29T00:00:00Z</td>\n",
              "      <td>56</td>\n",
              "      <td>JARDIM DA PENHA</td>\n",
              "      <td>0</td>\n",
              "      <td>1</td>\n",
              "      <td>1</td>\n",
              "      <td>0</td>\n",
              "      <td>0</td>\n",
              "      <td>0</td>\n",
              "      <td>No</td>\n",
              "    </tr>\n",
              "  </tbody>\n",
              "</table>\n",
              "</div>"
            ],
            "text/plain": [
              "      PatientId  AppointmentID Gender  ... Handcap SMS_received  No-show\n",
              "0  2.987250e+13        5642903      F  ...       0            0       No\n",
              "1  5.589978e+14        5642503      M  ...       0            0       No\n",
              "2  4.262962e+12        5642549      F  ...       0            0       No\n",
              "3  8.679512e+11        5642828      F  ...       0            0       No\n",
              "4  8.841186e+12        5642494      F  ...       0            0       No\n",
              "\n",
              "[5 rows x 14 columns]"
            ]
          },
          "metadata": {
            "tags": []
          },
          "execution_count": 146
        }
      ]
    },
    {
      "cell_type": "code",
      "metadata": {
        "id": "da-APZ6pbsTA",
        "outputId": "da69c127-2a19-4b6a-a060-124bfaa11a11",
        "colab": {
          "base_uri": "https://localhost:8080/",
          "height": 34
        }
      },
      "source": [
        "#looking for missing instances\n",
        "\n",
        "df.count()# counts number of records under each attribute\n",
        "df.shape[0]# Number of entry in dataset\n",
        "flag=0\n",
        "cols= list(df.columns)\n",
        "for col in cols:\n",
        "    if(df.shape[0]==df[col].count()):\n",
        "        flag=1\n",
        "if(flag==1):\n",
        "    print(\"No Data Entry Missing\")\n",
        "else:\n",
        "    print(\"Data Entry Missing\")"
      ],
      "execution_count": 147,
      "outputs": [
        {
          "output_type": "stream",
          "text": [
            "No Data Entry Missing\n"
          ],
          "name": "stdout"
        }
      ]
    },
    {
      "cell_type": "code",
      "metadata": {
        "id": "pyPsO__ibsTE",
        "outputId": "829155f2-04c6-46fb-f896-61a436650da1",
        "colab": {
          "base_uri": "https://localhost:8080/",
          "height": 34
        }
      },
      "source": [
        "count=0\n",
        "if df.isnull==True:\n",
        "    count+=1\n",
        "\n",
        "if count==0:\n",
        "    print(\"No null values\")\n",
        "else:\n",
        "    print(\"Null Values found\")\n",
        "\n",
        "# Finding if any null value present"
      ],
      "execution_count": 148,
      "outputs": [
        {
          "output_type": "stream",
          "text": [
            "No null values\n"
          ],
          "name": "stdout"
        }
      ]
    },
    {
      "cell_type": "code",
      "metadata": {
        "id": "m-oauu-CbsTI",
        "outputId": "d7ee1f59-be20-444d-b60d-ae27bf4c97f5",
        "colab": {
          "base_uri": "https://localhost:8080/",
          "height": 370
        }
      },
      "source": [
        "df.info()  #Data types count not-null"
      ],
      "execution_count": 149,
      "outputs": [
        {
          "output_type": "stream",
          "text": [
            "<class 'pandas.core.frame.DataFrame'>\n",
            "RangeIndex: 110527 entries, 0 to 110526\n",
            "Data columns (total 14 columns):\n",
            " #   Column          Non-Null Count   Dtype  \n",
            "---  ------          --------------   -----  \n",
            " 0   PatientId       110527 non-null  float64\n",
            " 1   AppointmentID   110527 non-null  int64  \n",
            " 2   Gender          110527 non-null  object \n",
            " 3   ScheduledDay    110527 non-null  object \n",
            " 4   AppointmentDay  110527 non-null  object \n",
            " 5   Age             110527 non-null  int64  \n",
            " 6   Neighbourhood   110527 non-null  object \n",
            " 7   Scholarship     110527 non-null  int64  \n",
            " 8   Hipertension    110527 non-null  int64  \n",
            " 9   Diabetes        110527 non-null  int64  \n",
            " 10  Alcoholism      110527 non-null  int64  \n",
            " 11  Handcap         110527 non-null  int64  \n",
            " 12  SMS_received    110527 non-null  int64  \n",
            " 13  No-show         110527 non-null  object \n",
            "dtypes: float64(1), int64(8), object(5)\n",
            "memory usage: 11.8+ MB\n"
          ],
          "name": "stdout"
        }
      ]
    },
    {
      "cell_type": "code",
      "metadata": {
        "id": "2jlreh8_bsTN",
        "outputId": "057c9c91-81be-4633-99ce-bdefd39d2cf0",
        "colab": {
          "base_uri": "https://localhost:8080/",
          "height": 252
        }
      },
      "source": [
        "\n",
        "col_list=list(df.columns)  # Finding Datatype in form of dictionary\n",
        "d_list=[]\n",
        "for col in cols:\n",
        "    # print(df[col].dtypes)\n",
        "    d_list.append(df[col].dtypes) \n",
        "d_type = dict(zip(col_list, d_list))\n",
        "d_type\n"
      ],
      "execution_count": 150,
      "outputs": [
        {
          "output_type": "execute_result",
          "data": {
            "text/plain": [
              "{'Age': dtype('int64'),\n",
              " 'Alcoholism': dtype('int64'),\n",
              " 'AppointmentDay': dtype('O'),\n",
              " 'AppointmentID': dtype('int64'),\n",
              " 'Diabetes': dtype('int64'),\n",
              " 'Gender': dtype('O'),\n",
              " 'Handcap': dtype('int64'),\n",
              " 'Hipertension': dtype('int64'),\n",
              " 'Neighbourhood': dtype('O'),\n",
              " 'No-show': dtype('O'),\n",
              " 'PatientId': dtype('float64'),\n",
              " 'SMS_received': dtype('int64'),\n",
              " 'ScheduledDay': dtype('O'),\n",
              " 'Scholarship': dtype('int64')}"
            ]
          },
          "metadata": {
            "tags": []
          },
          "execution_count": 150
        }
      ]
    },
    {
      "cell_type": "code",
      "metadata": {
        "scrolled": true,
        "id": "UqGaQnuUbsTV",
        "outputId": "967faf80-d6fe-4b0d-9791-4cc734a6e724",
        "colab": {
          "base_uri": "https://localhost:8080/",
          "height": 284
        }
      },
      "source": [
        "# Create a summary of the data.\n",
        "df.describe()"
      ],
      "execution_count": 151,
      "outputs": [
        {
          "output_type": "execute_result",
          "data": {
            "text/html": [
              "<div>\n",
              "<style scoped>\n",
              "    .dataframe tbody tr th:only-of-type {\n",
              "        vertical-align: middle;\n",
              "    }\n",
              "\n",
              "    .dataframe tbody tr th {\n",
              "        vertical-align: top;\n",
              "    }\n",
              "\n",
              "    .dataframe thead th {\n",
              "        text-align: right;\n",
              "    }\n",
              "</style>\n",
              "<table border=\"1\" class=\"dataframe\">\n",
              "  <thead>\n",
              "    <tr style=\"text-align: right;\">\n",
              "      <th></th>\n",
              "      <th>PatientId</th>\n",
              "      <th>AppointmentID</th>\n",
              "      <th>Age</th>\n",
              "      <th>Scholarship</th>\n",
              "      <th>Hipertension</th>\n",
              "      <th>Diabetes</th>\n",
              "      <th>Alcoholism</th>\n",
              "      <th>Handcap</th>\n",
              "      <th>SMS_received</th>\n",
              "    </tr>\n",
              "  </thead>\n",
              "  <tbody>\n",
              "    <tr>\n",
              "      <th>count</th>\n",
              "      <td>1.105270e+05</td>\n",
              "      <td>1.105270e+05</td>\n",
              "      <td>110527.000000</td>\n",
              "      <td>110527.000000</td>\n",
              "      <td>110527.000000</td>\n",
              "      <td>110527.000000</td>\n",
              "      <td>110527.000000</td>\n",
              "      <td>110527.000000</td>\n",
              "      <td>110527.000000</td>\n",
              "    </tr>\n",
              "    <tr>\n",
              "      <th>mean</th>\n",
              "      <td>1.474963e+14</td>\n",
              "      <td>5.675305e+06</td>\n",
              "      <td>37.088874</td>\n",
              "      <td>0.098266</td>\n",
              "      <td>0.197246</td>\n",
              "      <td>0.071865</td>\n",
              "      <td>0.030400</td>\n",
              "      <td>0.022248</td>\n",
              "      <td>0.321026</td>\n",
              "    </tr>\n",
              "    <tr>\n",
              "      <th>std</th>\n",
              "      <td>2.560949e+14</td>\n",
              "      <td>7.129575e+04</td>\n",
              "      <td>23.110205</td>\n",
              "      <td>0.297675</td>\n",
              "      <td>0.397921</td>\n",
              "      <td>0.258265</td>\n",
              "      <td>0.171686</td>\n",
              "      <td>0.161543</td>\n",
              "      <td>0.466873</td>\n",
              "    </tr>\n",
              "    <tr>\n",
              "      <th>min</th>\n",
              "      <td>3.921784e+04</td>\n",
              "      <td>5.030230e+06</td>\n",
              "      <td>-1.000000</td>\n",
              "      <td>0.000000</td>\n",
              "      <td>0.000000</td>\n",
              "      <td>0.000000</td>\n",
              "      <td>0.000000</td>\n",
              "      <td>0.000000</td>\n",
              "      <td>0.000000</td>\n",
              "    </tr>\n",
              "    <tr>\n",
              "      <th>25%</th>\n",
              "      <td>4.172614e+12</td>\n",
              "      <td>5.640286e+06</td>\n",
              "      <td>18.000000</td>\n",
              "      <td>0.000000</td>\n",
              "      <td>0.000000</td>\n",
              "      <td>0.000000</td>\n",
              "      <td>0.000000</td>\n",
              "      <td>0.000000</td>\n",
              "      <td>0.000000</td>\n",
              "    </tr>\n",
              "    <tr>\n",
              "      <th>50%</th>\n",
              "      <td>3.173184e+13</td>\n",
              "      <td>5.680573e+06</td>\n",
              "      <td>37.000000</td>\n",
              "      <td>0.000000</td>\n",
              "      <td>0.000000</td>\n",
              "      <td>0.000000</td>\n",
              "      <td>0.000000</td>\n",
              "      <td>0.000000</td>\n",
              "      <td>0.000000</td>\n",
              "    </tr>\n",
              "    <tr>\n",
              "      <th>75%</th>\n",
              "      <td>9.439172e+13</td>\n",
              "      <td>5.725524e+06</td>\n",
              "      <td>55.000000</td>\n",
              "      <td>0.000000</td>\n",
              "      <td>0.000000</td>\n",
              "      <td>0.000000</td>\n",
              "      <td>0.000000</td>\n",
              "      <td>0.000000</td>\n",
              "      <td>1.000000</td>\n",
              "    </tr>\n",
              "    <tr>\n",
              "      <th>max</th>\n",
              "      <td>9.999816e+14</td>\n",
              "      <td>5.790484e+06</td>\n",
              "      <td>115.000000</td>\n",
              "      <td>1.000000</td>\n",
              "      <td>1.000000</td>\n",
              "      <td>1.000000</td>\n",
              "      <td>1.000000</td>\n",
              "      <td>4.000000</td>\n",
              "      <td>1.000000</td>\n",
              "    </tr>\n",
              "  </tbody>\n",
              "</table>\n",
              "</div>"
            ],
            "text/plain": [
              "          PatientId  AppointmentID  ...        Handcap   SMS_received\n",
              "count  1.105270e+05   1.105270e+05  ...  110527.000000  110527.000000\n",
              "mean   1.474963e+14   5.675305e+06  ...       0.022248       0.321026\n",
              "std    2.560949e+14   7.129575e+04  ...       0.161543       0.466873\n",
              "min    3.921784e+04   5.030230e+06  ...       0.000000       0.000000\n",
              "25%    4.172614e+12   5.640286e+06  ...       0.000000       0.000000\n",
              "50%    3.173184e+13   5.680573e+06  ...       0.000000       0.000000\n",
              "75%    9.439172e+13   5.725524e+06  ...       0.000000       1.000000\n",
              "max    9.999816e+14   5.790484e+06  ...       4.000000       1.000000\n",
              "\n",
              "[8 rows x 9 columns]"
            ]
          },
          "metadata": {
            "tags": []
          },
          "execution_count": 151
        }
      ]
    },
    {
      "cell_type": "markdown",
      "metadata": {
        "id": "NQrUwgbKbsTb"
      },
      "source": [
        "Minimum age in the dataset is negative(something to be taken care of) and max age is above 100."
      ]
    },
    {
      "cell_type": "code",
      "metadata": {
        "tags": [],
        "id": "XWZ9au9ZbsTb"
      },
      "source": [
        "# ages_bool = list(df.Age<0)\n",
        "# for age_bool in ages_bool:\n",
        "#     if(age_bool==True):\n",
        "#         index =ages_bool.index(age_bool)\n",
        "#         print(index)\n",
        "# list(df.Age)[99832] = df['Age'].mean()\n",
        "# # print(list(df.Age)[99832])\n",
        "# df['Age'].mean()                              Could have replaced with mean too\n",
        "\n",
        "\n",
        "#Alternate Approach\n",
        "df = df[df.Age >= 0] #deleting negative value of age \n",
        "df = df[df.Age <= 100] #deleting value of age >100"
      ],
      "execution_count": 152,
      "outputs": []
    },
    {
      "cell_type": "code",
      "metadata": {
        "tags": [],
        "id": "nLOl7xQIbsTe",
        "outputId": "64ae3959-f823-4647-e03a-9ba4fb5f3b2c",
        "colab": {
          "base_uri": "https://localhost:8080/",
          "height": 34
        }
      },
      "source": [
        "ages_bool = list(df.Age<0)\n",
        "for age_bool in ages_bool:\n",
        "    if(age_bool==True):\n",
        "        flag=0\n",
        "    else:\n",
        "        flag=1\n",
        "if(flag==0):\n",
        "    print(\"Negative age found\")\n",
        "else:\n",
        "    print(\"Negative ages deleted\")"
      ],
      "execution_count": 153,
      "outputs": [
        {
          "output_type": "stream",
          "text": [
            "Negative ages deleted\n"
          ],
          "name": "stdout"
        }
      ]
    },
    {
      "cell_type": "markdown",
      "metadata": {
        "id": "cf23hl9ibsTh"
      },
      "source": [
        "### Variable Identification\n",
        "* Identifying the target variable(dependent variable) and the predictor variables(independent variables) which affect the status of the target variable."
      ]
    },
    {
      "cell_type": "code",
      "metadata": {
        "tags": [],
        "id": "3ecfgqTHbsTh"
      },
      "source": [
        "# print(df.shape)\n",
        "# y = df['No-show'] # dependent Variable = NoShow\n",
        "# x = df.iloc[ :, :13] #  independent Variable\n",
        "# # Will drop AppointmentID and PatientID later"
      ],
      "execution_count": 154,
      "outputs": []
    },
    {
      "cell_type": "code",
      "metadata": {
        "id": "oCZ95OV1bsTk",
        "outputId": "8fb31917-e788-423c-8443-3a2d18fa9c7d",
        "colab": {
          "base_uri": "https://localhost:8080/",
          "height": 84
        }
      },
      "source": [
        "df.columns"
      ],
      "execution_count": 155,
      "outputs": [
        {
          "output_type": "execute_result",
          "data": {
            "text/plain": [
              "Index(['PatientId', 'AppointmentID', 'Gender', 'ScheduledDay',\n",
              "       'AppointmentDay', 'Age', 'Neighbourhood', 'Scholarship', 'Hipertension',\n",
              "       'Diabetes', 'Alcoholism', 'Handcap', 'SMS_received', 'No-show'],\n",
              "      dtype='object')"
            ]
          },
          "metadata": {
            "tags": []
          },
          "execution_count": 155
        }
      ]
    },
    {
      "cell_type": "markdown",
      "metadata": {
        "id": "niXeaDhabsTn"
      },
      "source": [
        "#### Mention your target variable(s) in this markdown cell and specify the predictor variable(s) you'll use for the analysis"
      ]
    },
    {
      "cell_type": "markdown",
      "metadata": {
        "id": "lulVnznPbsTo"
      },
      "source": [
        "### Type of Variable Classified:\n",
        "#### Predictor Variables: 'Gender', 'ScheduledDay', 'AppointmentDay', 'Age', 'Neighbourhood', 'Scholarship', 'Hipertension', 'Diabetes', 'Alcoholism', 'Handcap' 'SMS_received'\n",
        "\n",
        "<br>\n",
        "\n",
        "#### Target Variable (Independent Variable): 'No-show'\n",
        "\n",
        "<br>"
      ]
    },
    {
      "cell_type": "markdown",
      "metadata": {
        "id": "63wvdjgobsTo"
      },
      "source": [
        "### Classify the features based on dataype"
      ]
    },
    {
      "cell_type": "code",
      "metadata": {
        "id": "_7NSECVQbsTp",
        "outputId": "5284e1b0-36f6-4f73-89ef-8a100c84fef1",
        "colab": {
          "base_uri": "https://localhost:8080/",
          "height": 370
        }
      },
      "source": [
        "# Check the data types of each column (features)\n",
        "df.info()\n",
        "\n",
        "# for col in cols:\n",
        "#     print(df[col].dtypes) Finding out data types\n"
      ],
      "execution_count": 156,
      "outputs": [
        {
          "output_type": "stream",
          "text": [
            "<class 'pandas.core.frame.DataFrame'>\n",
            "Int64Index: 110519 entries, 0 to 110526\n",
            "Data columns (total 14 columns):\n",
            " #   Column          Non-Null Count   Dtype  \n",
            "---  ------          --------------   -----  \n",
            " 0   PatientId       110519 non-null  float64\n",
            " 1   AppointmentID   110519 non-null  int64  \n",
            " 2   Gender          110519 non-null  object \n",
            " 3   ScheduledDay    110519 non-null  object \n",
            " 4   AppointmentDay  110519 non-null  object \n",
            " 5   Age             110519 non-null  int64  \n",
            " 6   Neighbourhood   110519 non-null  object \n",
            " 7   Scholarship     110519 non-null  int64  \n",
            " 8   Hipertension    110519 non-null  int64  \n",
            " 9   Diabetes        110519 non-null  int64  \n",
            " 10  Alcoholism      110519 non-null  int64  \n",
            " 11  Handcap         110519 non-null  int64  \n",
            " 12  SMS_received    110519 non-null  int64  \n",
            " 13  No-show         110519 non-null  object \n",
            "dtypes: float64(1), int64(8), object(5)\n",
            "memory usage: 12.6+ MB\n"
          ],
          "name": "stdout"
        }
      ]
    },
    {
      "cell_type": "code",
      "metadata": {
        "id": "oA_f3ZocbsTs",
        "outputId": "6e44763e-8ebe-4c88-f390-2f9e2afaa601",
        "colab": {
          "base_uri": "https://localhost:8080/",
          "height": 34
        }
      },
      "source": [
        "col_list=list(df.columns)\n",
        "d_list=[]\n",
        "for col in cols:\n",
        "    # print(df[col].dtypes)\n",
        "    d_list.append(df[col].dtypes) # Finding out data types\n",
        "d_type = dict(zip(col_list, d_list))\n",
        "df.groupby(df.dtypes, axis=1)"
      ],
      "execution_count": 157,
      "outputs": [
        {
          "output_type": "execute_result",
          "data": {
            "text/plain": [
              "<pandas.core.groupby.generic.DataFrameGroupBy object at 0x7f988abf27f0>"
            ]
          },
          "metadata": {
            "tags": []
          },
          "execution_count": 157
        }
      ]
    },
    {
      "cell_type": "markdown",
      "metadata": {
        "id": "hRWc5QrabsTv"
      },
      "source": [
        "### Write the features categorized by data types here:\n",
        "### Data Types\n",
        "\n",
        "<br>"
      ]
    },
    {
      "cell_type": "markdown",
      "metadata": {
        "id": "VhN1_a3NbsTv"
      },
      "source": [
        "### Checking for missing data"
      ]
    },
    {
      "cell_type": "code",
      "metadata": {
        "id": "M1Ac1wwkbsTw",
        "outputId": "7c29cd33-404b-4b38-a547-2c53960777b0",
        "colab": {
          "base_uri": "https://localhost:8080/",
          "height": 50
        }
      },
      "source": [
        "count=0\n",
        "if df.isnull==True:\n",
        "    count+=1\n",
        "print(count)\n",
        "if count==0:\n",
        "    print(\"No Missing Value\")"
      ],
      "execution_count": 158,
      "outputs": [
        {
          "output_type": "stream",
          "text": [
            "0\n",
            "No Missing Value\n"
          ],
          "name": "stdout"
        }
      ]
    },
    {
      "cell_type": "markdown",
      "metadata": {
        "id": "MJvWD5TFbsTy"
      },
      "source": [
        "Are there any missing data? _(Answer here)_ : No missing Values\n"
      ]
    },
    {
      "cell_type": "markdown",
      "metadata": {
        "id": "11_Go8vSbsTz"
      },
      "source": [
        "#### Check the counts of some categorical variables and give your inference"
      ]
    },
    {
      "cell_type": "code",
      "metadata": {
        "id": "1iN559tMbsTz",
        "outputId": "4c289167-f75c-4a4d-de0a-cd3a6dd5c57f",
        "colab": {
          "base_uri": "https://localhost:8080/",
          "height": 34
        }
      },
      "source": [
        "df.shape # (110519, 12)\n",
        "df['No-show'].count() #No missing Value"
      ],
      "execution_count": 159,
      "outputs": [
        {
          "output_type": "execute_result",
          "data": {
            "text/plain": [
              "110519"
            ]
          },
          "metadata": {
            "tags": []
          },
          "execution_count": 159
        }
      ]
    },
    {
      "cell_type": "code",
      "metadata": {
        "id": "txvvr0nibsT3",
        "outputId": "951e59d5-dc68-4afe-bddb-68af5fad75ca",
        "colab": {
          "base_uri": "https://localhost:8080/",
          "height": 34
        }
      },
      "source": [
        "df.shape # (110519, 12)\n",
        "df['Neighbourhood'].count() #No missing Value"
      ],
      "execution_count": 160,
      "outputs": [
        {
          "output_type": "execute_result",
          "data": {
            "text/plain": [
              "110519"
            ]
          },
          "metadata": {
            "tags": []
          },
          "execution_count": 160
        }
      ]
    },
    {
      "cell_type": "code",
      "metadata": {
        "id": "FfHkkbGPbsT6",
        "outputId": "bd08d9b6-f151-4d57-f710-fbc3da00e5ae",
        "colab": {
          "base_uri": "https://localhost:8080/",
          "height": 34
        }
      },
      "source": [
        "df.shape # (110519, 12)\n",
        "df['Gender'].count() #No missing Value"
      ],
      "execution_count": 161,
      "outputs": [
        {
          "output_type": "execute_result",
          "data": {
            "text/plain": [
              "110519"
            ]
          },
          "metadata": {
            "tags": []
          },
          "execution_count": 161
        }
      ]
    },
    {
      "cell_type": "markdown",
      "metadata": {
        "id": "Wxzz2y5wbsT9"
      },
      "source": [
        "<a id='cleaning'></a>\n",
        "## Data Cleaning"
      ]
    },
    {
      "cell_type": "markdown",
      "metadata": {
        "id": "tk2CDuCdbsT9"
      },
      "source": [
        "#### The changes made to date format.\n",
        "1. The Scheduled and Appointment days are in date time format.\n",
        "2. Convert the date time format to Date, Week day and Month Scheduled.\n",
        "3. Days, Month should normal count in integer.\n",
        "4. The Week day should be coded as Monday : 0 to Sunday : 6\n",
        "5. As the dataset is of year 2016, the year can be ignored.\n",
        "\n",
        "Hint : This can be done using NumPy's datetime64 (https://docs.scipy.org/doc/numpy/reference/arrays.datetime.html)"
      ]
    },
    {
      "cell_type": "code",
      "metadata": {
        "id": "z18nWaN_bsT-"
      },
      "source": [
        "df['ScheduledDay'] = pd.to_datetime(df['ScheduledDay']).dt.date.astype('datetime64[ns]')\n",
        "df['AppointmentDay'] = pd.to_datetime(df['AppointmentDay']).dt.date.astype('datetime64[ns]')"
      ],
      "execution_count": 165,
      "outputs": []
    },
    {
      "cell_type": "code",
      "metadata": {
        "id": "T7Djaq7NrNKW"
      },
      "source": [
        "# Get Day of the Week for ScheduledDay and AppointmentDay\n",
        "df['ScheduledDay_DOW'] = df['ScheduledDay'].dt.day_name()\n",
        "df['AppointmentDay_DOW'] = df['AppointmentDay'].dt.day_name()"
      ],
      "execution_count": 168,
      "outputs": []
    },
    {
      "cell_type": "code",
      "metadata": {
        "id": "NfNY8LD7rmZ2"
      },
      "source": [
        "df['AppointmentDay'] = np.where((df['AppointmentDay'] - df['ScheduledDay']).dt.days < 0, df['ScheduledDay'], df['AppointmentDay'])\n",
        "# Get the Waiting Time in Days of the Patients.\n",
        "df['Waiting_Time_days'] = df['AppointmentDay'] - df['ScheduledDay']\n",
        "df['Waiting_Time_days'] = df['Waiting_Time_days'].dt.days"
      ],
      "execution_count": 169,
      "outputs": []
    },
    {
      "cell_type": "code",
      "metadata": {
        "id": "hbObwaq9rq-d",
        "outputId": "015a45c9-62b9-475f-db80-b311c6a00ead",
        "colab": {
          "base_uri": "https://localhost:8080/",
          "height": 34
        }
      },
      "source": [
        "print(\"There are [{}] records where the Waiting Time is less than Zero.\".format(df[df.Waiting_Time_days < 0].shape[0]))"
      ],
      "execution_count": 170,
      "outputs": [
        {
          "output_type": "stream",
          "text": [
            "There are [0] records where the Waiting Time is less than Zero.\n"
          ],
          "name": "stdout"
        }
      ]
    },
    {
      "cell_type": "code",
      "metadata": {
        "id": "Oz64pZPgbsUC"
      },
      "source": [
        ""
      ],
      "execution_count": 76,
      "outputs": []
    },
    {
      "cell_type": "code",
      "metadata": {
        "id": "XLOrkqaNbsUI"
      },
      "source": [
        ""
      ],
      "execution_count": 76,
      "outputs": []
    },
    {
      "cell_type": "code",
      "metadata": {
        "id": "m2I-_La3bsUN"
      },
      "source": [
        ""
      ],
      "execution_count": 76,
      "outputs": []
    },
    {
      "cell_type": "markdown",
      "metadata": {
        "id": "ZogrYDzwbsUQ"
      },
      "source": [
        "* Some of the spellings of the columns are incorrect.\n",
        "* Correcting them will make it easier for the users to follow."
      ]
    },
    {
      "cell_type": "code",
      "metadata": {
        "id": "ZjcvMhg7bsUR",
        "outputId": "30bb67ca-12ac-43ac-9dd9-225873a7dbc7",
        "colab": {
          "base_uri": "https://localhost:8080/",
          "height": 101
        }
      },
      "source": [
        "df.columns"
      ],
      "execution_count": 172,
      "outputs": [
        {
          "output_type": "execute_result",
          "data": {
            "text/plain": [
              "Index(['PatientId', 'AppointmentID', 'Gender', 'ScheduledDay',\n",
              "       'AppointmentDay', 'Age', 'Neighbourhood', 'Scholarship', 'Hipertension',\n",
              "       'Diabetes', 'Alcoholism', 'Handcap', 'SMS_received', 'No-show',\n",
              "       'ScheduledDay_DOW', 'AppointmentDay_DOW', 'Waiting_Time_days'],\n",
              "      dtype='object')"
            ]
          },
          "metadata": {
            "tags": []
          },
          "execution_count": 172
        }
      ]
    },
    {
      "cell_type": "code",
      "metadata": {
        "id": "vt7UjqaFbsUV",
        "outputId": "4863f3c1-2456-4815-b1cc-995b235ca070",
        "colab": {
          "base_uri": "https://localhost:8080/",
          "height": 84
        }
      },
      "source": [
        ""
      ],
      "execution_count": 78,
      "outputs": [
        {
          "output_type": "execute_result",
          "data": {
            "text/plain": [
              "Index(['PatientId', 'AppointmentID', 'Gender', 'ScheduledDay',\n",
              "       'AppointmentDay', 'Age', 'Neighbourhood', 'Scholarship', 'Hipertension',\n",
              "       'Diabetes', 'Alcoholism', 'Handcap', 'SMS_received', 'No-show'],\n",
              "      dtype='object')"
            ]
          },
          "metadata": {
            "tags": []
          },
          "execution_count": 78
        }
      ]
    },
    {
      "cell_type": "code",
      "metadata": {
        "id": "shMxq9uibsUY"
      },
      "source": [
        "df.rename(columns={'Hipertension':'Hypertension', 'Handcap':'Handicap', 'SMS_received': 'SMSReceived', 'No-show': 'NoShow'}, inplace=True)"
      ],
      "execution_count": 173,
      "outputs": []
    },
    {
      "cell_type": "markdown",
      "metadata": {
        "id": "loPa-_fcbsUa"
      },
      "source": [
        "### Check the unique values for each column.\n",
        "Certain values might be of wrong format or deosn't make sense with regard to the feature. Identify and correct them if any. \n",
        "\n",
        "Add any number of cells you think are necessary in this section"
      ]
    },
    {
      "cell_type": "code",
      "metadata": {
        "id": "lFa-KswvbsUb",
        "outputId": "2ed0f1d3-de15-40f1-bd79-52385c5a69b7",
        "colab": {
          "base_uri": "https://localhost:8080/",
          "height": 1000
        }
      },
      "source": [
        "cols=list(df.columns)\n",
        "for col in cols:\n",
        "    print(col)\n",
        "    print(df[col].unique())\n",
        "    print(\"\\n\")\n",
        "df.info()"
      ],
      "execution_count": 174,
      "outputs": [
        {
          "output_type": "stream",
          "text": [
            "PatientId\n",
            "[2.98724998e+13 5.58997777e+14 4.26296230e+12 ... 7.26331493e+13\n",
            " 9.96997666e+14 1.55766317e+13]\n",
            "\n",
            "\n",
            "AppointmentID\n",
            "[5642903 5642503 5642549 ... 5630692 5630323 5629448]\n",
            "\n",
            "\n",
            "Gender\n",
            "['F' 'M']\n",
            "\n",
            "\n",
            "ScheduledDay\n",
            "['2016-04-29T00:00:00.000000000' '2016-04-27T00:00:00.000000000'\n",
            " '2016-04-26T00:00:00.000000000' '2016-04-28T00:00:00.000000000'\n",
            " '2016-04-25T00:00:00.000000000' '2016-04-20T00:00:00.000000000'\n",
            " '2016-03-31T00:00:00.000000000' '2016-04-19T00:00:00.000000000'\n",
            " '2016-04-06T00:00:00.000000000' '2016-04-18T00:00:00.000000000'\n",
            " '2016-04-11T00:00:00.000000000' '2016-04-12T00:00:00.000000000'\n",
            " '2016-04-15T00:00:00.000000000' '2016-04-01T00:00:00.000000000'\n",
            " '2016-04-05T00:00:00.000000000' '2016-04-08T00:00:00.000000000'\n",
            " '2016-04-14T00:00:00.000000000' '2016-04-13T00:00:00.000000000'\n",
            " '2016-04-07T00:00:00.000000000' '2016-03-17T00:00:00.000000000'\n",
            " '2016-03-30T00:00:00.000000000' '2016-03-29T00:00:00.000000000'\n",
            " '2016-03-18T00:00:00.000000000' '2016-03-28T00:00:00.000000000'\n",
            " '2016-03-04T00:00:00.000000000' '2016-03-15T00:00:00.000000000'\n",
            " '2016-03-14T00:00:00.000000000' '2016-03-21T00:00:00.000000000'\n",
            " '2016-03-23T00:00:00.000000000' '2016-03-22T00:00:00.000000000'\n",
            " '2016-03-16T00:00:00.000000000' '2016-03-10T00:00:00.000000000'\n",
            " '2016-02-29T00:00:00.000000000' '2016-03-08T00:00:00.000000000'\n",
            " '2016-03-07T00:00:00.000000000' '2016-02-24T00:00:00.000000000'\n",
            " '2016-02-22T00:00:00.000000000' '2016-01-29T00:00:00.000000000'\n",
            " '2016-02-23T00:00:00.000000000' '2016-02-05T00:00:00.000000000'\n",
            " '2016-02-11T00:00:00.000000000' '2016-02-02T00:00:00.000000000'\n",
            " '2016-01-05T00:00:00.000000000' '2016-01-11T00:00:00.000000000'\n",
            " '2016-02-26T00:00:00.000000000' '2016-02-19T00:00:00.000000000'\n",
            " '2016-02-17T00:00:00.000000000' '2016-03-03T00:00:00.000000000'\n",
            " '2016-03-02T00:00:00.000000000' '2016-03-09T00:00:00.000000000'\n",
            " '2016-03-01T00:00:00.000000000' '2016-03-19T00:00:00.000000000'\n",
            " '2016-03-11T00:00:00.000000000' '2016-02-16T00:00:00.000000000'\n",
            " '2016-02-25T00:00:00.000000000' '2016-04-09T00:00:00.000000000'\n",
            " '2016-05-24T00:00:00.000000000' '2016-05-25T00:00:00.000000000'\n",
            " '2016-05-31T00:00:00.000000000' '2016-05-17T00:00:00.000000000'\n",
            " '2016-05-30T00:00:00.000000000' '2016-05-12T00:00:00.000000000'\n",
            " '2016-05-19T00:00:00.000000000' '2016-05-10T00:00:00.000000000'\n",
            " '2016-05-02T00:00:00.000000000' '2016-05-16T00:00:00.000000000'\n",
            " '2016-05-04T00:00:00.000000000' '2016-05-13T00:00:00.000000000'\n",
            " '2016-05-20T00:00:00.000000000' '2016-05-05T00:00:00.000000000'\n",
            " '2016-05-18T00:00:00.000000000' '2016-05-06T00:00:00.000000000'\n",
            " '2016-05-09T00:00:00.000000000' '2016-05-03T00:00:00.000000000'\n",
            " '2016-05-11T00:00:00.000000000' '2015-11-10T00:00:00.000000000'\n",
            " '2016-02-18T00:00:00.000000000' '2016-02-03T00:00:00.000000000'\n",
            " '2016-01-14T00:00:00.000000000' '2016-01-21T00:00:00.000000000'\n",
            " '2016-01-28T00:00:00.000000000' '2016-02-01T00:00:00.000000000'\n",
            " '2015-12-14T00:00:00.000000000' '2015-12-08T00:00:00.000000000'\n",
            " '2016-01-07T00:00:00.000000000' '2016-04-30T00:00:00.000000000'\n",
            " '2016-04-16T00:00:00.000000000' '2016-02-04T00:00:00.000000000'\n",
            " '2015-12-03T00:00:00.000000000' '2016-01-04T00:00:00.000000000'\n",
            " '2016-01-13T00:00:00.000000000' '2016-02-12T00:00:00.000000000'\n",
            " '2016-01-20T00:00:00.000000000' '2016-01-22T00:00:00.000000000'\n",
            " '2016-01-25T00:00:00.000000000' '2016-01-27T00:00:00.000000000'\n",
            " '2016-01-19T00:00:00.000000000' '2016-02-15T00:00:00.000000000'\n",
            " '2016-05-14T00:00:00.000000000' '2016-05-07T00:00:00.000000000'\n",
            " '2016-06-02T00:00:00.000000000' '2016-06-03T00:00:00.000000000'\n",
            " '2016-06-01T00:00:00.000000000' '2016-06-06T00:00:00.000000000'\n",
            " '2016-06-07T00:00:00.000000000' '2016-06-08T00:00:00.000000000'\n",
            " '2016-06-04T00:00:00.000000000' '2016-01-26T00:00:00.000000000'\n",
            " '2015-12-07T00:00:00.000000000' '2015-12-15T00:00:00.000000000'\n",
            " '2016-03-05T00:00:00.000000000']\n",
            "\n",
            "\n",
            "AppointmentDay\n",
            "['2016-04-29T00:00:00.000000000' '2016-05-03T00:00:00.000000000'\n",
            " '2016-05-10T00:00:00.000000000' '2016-05-17T00:00:00.000000000'\n",
            " '2016-05-24T00:00:00.000000000' '2016-05-31T00:00:00.000000000'\n",
            " '2016-05-02T00:00:00.000000000' '2016-05-30T00:00:00.000000000'\n",
            " '2016-05-16T00:00:00.000000000' '2016-05-04T00:00:00.000000000'\n",
            " '2016-05-19T00:00:00.000000000' '2016-05-12T00:00:00.000000000'\n",
            " '2016-05-06T00:00:00.000000000' '2016-05-20T00:00:00.000000000'\n",
            " '2016-05-05T00:00:00.000000000' '2016-05-13T00:00:00.000000000'\n",
            " '2016-05-09T00:00:00.000000000' '2016-05-25T00:00:00.000000000'\n",
            " '2016-05-11T00:00:00.000000000' '2016-05-18T00:00:00.000000000'\n",
            " '2016-05-14T00:00:00.000000000' '2016-06-02T00:00:00.000000000'\n",
            " '2016-06-03T00:00:00.000000000' '2016-06-06T00:00:00.000000000'\n",
            " '2016-06-07T00:00:00.000000000' '2016-06-01T00:00:00.000000000'\n",
            " '2016-06-08T00:00:00.000000000']\n",
            "\n",
            "\n",
            "Age\n",
            "[ 62  56   8  76  23  39  21  19  30  29  22  28  54  15  50  40  46   4\n",
            "  13  65  45  51  32  12  61  38  79  18  63  64  85  59  55  71  49  78\n",
            "  31  58  27   6   2  11   7   0   3   1  69  68  60  67  36  10  35  20\n",
            "  26  34  33  16  42   5  47  17  41  44  37  24  66  77  81  70  53  75\n",
            "  73  52  74  43  89  57  14   9  48  83  72  25  80  87  88  84  82  90\n",
            "  94  86  91  98  92  96  93  95  97 100  99]\n",
            "\n",
            "\n",
            "Neighbourhood\n",
            "['JARDIM DA PENHA' 'MATA DA PRAIA' 'PONTAL DE CAMBURI' 'REPÚBLICA'\n",
            " 'GOIABEIRAS' 'ANDORINHAS' 'CONQUISTA' 'NOVA PALESTINA' 'DA PENHA'\n",
            " 'TABUAZEIRO' 'BENTO FERREIRA' 'SÃO PEDRO' 'SANTA MARTHA' 'SÃO CRISTÓVÃO'\n",
            " 'MARUÍPE' 'GRANDE VITÓRIA' 'SÃO BENEDITO' 'ILHA DAS CAIEIRAS'\n",
            " 'SANTO ANDRÉ' 'SOLON BORGES' 'BONFIM' 'JARDIM CAMBURI' 'MARIA ORTIZ'\n",
            " 'JABOUR' 'ANTÔNIO HONÓRIO' 'RESISTÊNCIA' 'ILHA DE SANTA MARIA'\n",
            " 'JUCUTUQUARA' 'MONTE BELO' 'MÁRIO CYPRESTE' 'SANTO ANTÔNIO' 'BELA VISTA'\n",
            " 'PRAIA DO SUÁ' 'SANTA HELENA' 'ITARARÉ' 'INHANGUETÁ' 'UNIVERSITÁRIO'\n",
            " 'SÃO JOSÉ' 'REDENÇÃO' 'SANTA CLARA' 'CENTRO' 'PARQUE MOSCOSO'\n",
            " 'DO MOSCOSO' 'SANTOS DUMONT' 'CARATOÍRA' 'ARIOVALDO FAVALESSA'\n",
            " 'ILHA DO FRADE' 'GURIGICA' 'JOANA D´ARC' 'CONSOLAÇÃO' 'PRAIA DO CANTO'\n",
            " 'BOA VISTA' 'MORADA DE CAMBURI' 'SANTA LUÍZA' 'SANTA LÚCIA'\n",
            " 'BARRO VERMELHO' 'ESTRELINHA' 'FORTE SÃO JOÃO' 'FONTE GRANDE'\n",
            " 'ENSEADA DO SUÁ' 'SANTOS REIS' 'PIEDADE' 'JESUS DE NAZARETH'\n",
            " 'SANTA TEREZA' 'CRUZAMENTO' 'ILHA DO PRÍNCIPE' 'ROMÃO' 'COMDUSA'\n",
            " 'SANTA CECÍLIA' 'VILA RUBIM' 'DE LOURDES' 'DO QUADRO' 'DO CABRAL' 'HORTO'\n",
            " 'SEGURANÇA DO LAR' 'ILHA DO BOI' 'FRADINHOS' 'NAZARETH' 'AEROPORTO'\n",
            " 'ILHAS OCEÂNICAS DE TRINDADE' 'PARQUE INDUSTRIAL']\n",
            "\n",
            "\n",
            "Scholarship\n",
            "[0 1]\n",
            "\n",
            "\n",
            "Hypertension\n",
            "[1 0]\n",
            "\n",
            "\n",
            "Diabetes\n",
            "[0 1]\n",
            "\n",
            "\n",
            "Alcoholism\n",
            "[0 1]\n",
            "\n",
            "\n",
            "Handicap\n",
            "[0 1 2 3 4]\n",
            "\n",
            "\n",
            "SMSReceived\n",
            "[0 1]\n",
            "\n",
            "\n",
            "NoShow\n",
            "['No' 'Yes']\n",
            "\n",
            "\n",
            "ScheduledDay_DOW\n",
            "['Friday' 'Wednesday' 'Tuesday' 'Thursday' 'Monday' 'Saturday']\n",
            "\n",
            "\n",
            "AppointmentDay_DOW\n",
            "['Friday' 'Tuesday' 'Monday' 'Wednesday' 'Thursday' 'Saturday']\n",
            "\n",
            "\n",
            "Waiting_Time_days\n",
            "[  0   2   3   1   4   9  29  10  23  11  18  17  14  28  24  21  15  16\n",
            "  22  43  30  31  42  32  56  45  46  39  37  38  44  50  60  52  53  65\n",
            "  67  91  66  84  78  87 115 109  63  70  72  57  58  51  59  41  49  73\n",
            "  64  20  33  34   6  35  36  12  13  40  47   8   5   7  25  26  48  27\n",
            "  19  61  55  62 176  54  77  69  83  76  89  81 103  79  68  75  85 112\n",
            "  80  86  98  94 142 155 162 169 104 133 125  96  88  90 151 126 127 111\n",
            " 119  74  71  82 108 110 102 122 101 105  92  97  93 107  95 139 132 179\n",
            " 117 146 123]\n",
            "\n",
            "\n",
            "<class 'pandas.core.frame.DataFrame'>\n",
            "Int64Index: 110519 entries, 0 to 110526\n",
            "Data columns (total 17 columns):\n",
            " #   Column              Non-Null Count   Dtype         \n",
            "---  ------              --------------   -----         \n",
            " 0   PatientId           110519 non-null  float64       \n",
            " 1   AppointmentID       110519 non-null  int64         \n",
            " 2   Gender              110519 non-null  object        \n",
            " 3   ScheduledDay        110519 non-null  datetime64[ns]\n",
            " 4   AppointmentDay      110519 non-null  datetime64[ns]\n",
            " 5   Age                 110519 non-null  int64         \n",
            " 6   Neighbourhood       110519 non-null  object        \n",
            " 7   Scholarship         110519 non-null  int64         \n",
            " 8   Hypertension        110519 non-null  int64         \n",
            " 9   Diabetes            110519 non-null  int64         \n",
            " 10  Alcoholism          110519 non-null  int64         \n",
            " 11  Handicap            110519 non-null  int64         \n",
            " 12  SMSReceived         110519 non-null  int64         \n",
            " 13  NoShow              110519 non-null  object        \n",
            " 14  ScheduledDay_DOW    110519 non-null  object        \n",
            " 15  AppointmentDay_DOW  110519 non-null  object        \n",
            " 16  Waiting_Time_days   110519 non-null  int64         \n",
            "dtypes: datetime64[ns](2), float64(1), int64(9), object(5)\n",
            "memory usage: 20.2+ MB\n"
          ],
          "name": "stdout"
        }
      ]
    },
    {
      "cell_type": "code",
      "metadata": {
        "id": "4ZXKM-EwbsUd",
        "outputId": "5b1a9f01-facc-4bb5-f29c-fac2bacf148a",
        "colab": {
          "base_uri": "https://localhost:8080/",
          "height": 34
        }
      },
      "source": [
        "count=0\n",
        "for i in list(df.Age):\n",
        "    if i==0:\n",
        "        count+=1\n",
        "        df.Hypertension=0\n",
        "        df.Diabetes=0\n",
        "        df.Alcoholism=0\n",
        "print(count)     #3539 Patients\n"
      ],
      "execution_count": 175,
      "outputs": [
        {
          "output_type": "stream",
          "text": [
            "3539\n"
          ],
          "name": "stdout"
        }
      ]
    },
    {
      "cell_type": "markdown",
      "metadata": {
        "scrolled": true,
        "id": "LU5X4oQ2bsUg"
      },
      "source": [
        "# As we have patients with Age equal to 0 we are assuming that these are the small babies with few months of Age. Usually as babies doesn't have Hypertension or Diabetes or Alcoholism we will check these features for the above records to see if our assumption is correct."
      ]
    },
    {
      "cell_type": "markdown",
      "metadata": {
        "id": "M4vLRbo0bsUh"
      },
      "source": [
        "Write your findings **here**"
      ]
    },
    {
      "cell_type": "markdown",
      "metadata": {
        "id": "EyQ8ygtabsUi"
      },
      "source": [
        "# As we have 3539 patients with Age equal to 0 we are assuming that these are the small babies with few months of Age. Usually as babies doesn't have Hypertension or Diabetes or Alcoholism we will check these features for the above records to see if our assumption is correct."
      ]
    },
    {
      "cell_type": "markdown",
      "metadata": {
        "id": "f34xiSk7bsUk"
      },
      "source": [
        "### Feature Selection\n",
        "\n",
        "Choose the features that are best suited for the analysis and drop those which are unnecessary.\n",
        "\n",
        "Display your final dataset at the end\n"
      ]
    },
    {
      "cell_type": "code",
      "metadata": {
        "id": "DunYca-jbsUl"
      },
      "source": [
        "# Drop 'PatientId' and 'AppointmentID' as they are just some system genrated numbers.\n",
        "df.drop(['PatientId', 'AppointmentID'], axis=1, inplace=True)"
      ],
      "execution_count": 176,
      "outputs": []
    },
    {
      "cell_type": "code",
      "metadata": {
        "id": "KEdZ3pCubsUr",
        "outputId": "92f070fa-463b-4b20-b679-15429c6f8b7c",
        "colab": {
          "base_uri": "https://localhost:8080/",
          "height": 299
        }
      },
      "source": [
        "df.head()"
      ],
      "execution_count": 177,
      "outputs": [
        {
          "output_type": "execute_result",
          "data": {
            "text/html": [
              "<div>\n",
              "<style scoped>\n",
              "    .dataframe tbody tr th:only-of-type {\n",
              "        vertical-align: middle;\n",
              "    }\n",
              "\n",
              "    .dataframe tbody tr th {\n",
              "        vertical-align: top;\n",
              "    }\n",
              "\n",
              "    .dataframe thead th {\n",
              "        text-align: right;\n",
              "    }\n",
              "</style>\n",
              "<table border=\"1\" class=\"dataframe\">\n",
              "  <thead>\n",
              "    <tr style=\"text-align: right;\">\n",
              "      <th></th>\n",
              "      <th>Gender</th>\n",
              "      <th>ScheduledDay</th>\n",
              "      <th>AppointmentDay</th>\n",
              "      <th>Age</th>\n",
              "      <th>Neighbourhood</th>\n",
              "      <th>Scholarship</th>\n",
              "      <th>Hypertension</th>\n",
              "      <th>Diabetes</th>\n",
              "      <th>Alcoholism</th>\n",
              "      <th>Handicap</th>\n",
              "      <th>SMSReceived</th>\n",
              "      <th>NoShow</th>\n",
              "      <th>ScheduledDay_DOW</th>\n",
              "      <th>AppointmentDay_DOW</th>\n",
              "      <th>Waiting_Time_days</th>\n",
              "    </tr>\n",
              "  </thead>\n",
              "  <tbody>\n",
              "    <tr>\n",
              "      <th>0</th>\n",
              "      <td>F</td>\n",
              "      <td>2016-04-29</td>\n",
              "      <td>2016-04-29</td>\n",
              "      <td>62</td>\n",
              "      <td>JARDIM DA PENHA</td>\n",
              "      <td>0</td>\n",
              "      <td>0</td>\n",
              "      <td>0</td>\n",
              "      <td>0</td>\n",
              "      <td>0</td>\n",
              "      <td>0</td>\n",
              "      <td>No</td>\n",
              "      <td>Friday</td>\n",
              "      <td>Friday</td>\n",
              "      <td>0</td>\n",
              "    </tr>\n",
              "    <tr>\n",
              "      <th>1</th>\n",
              "      <td>M</td>\n",
              "      <td>2016-04-29</td>\n",
              "      <td>2016-04-29</td>\n",
              "      <td>56</td>\n",
              "      <td>JARDIM DA PENHA</td>\n",
              "      <td>0</td>\n",
              "      <td>0</td>\n",
              "      <td>0</td>\n",
              "      <td>0</td>\n",
              "      <td>0</td>\n",
              "      <td>0</td>\n",
              "      <td>No</td>\n",
              "      <td>Friday</td>\n",
              "      <td>Friday</td>\n",
              "      <td>0</td>\n",
              "    </tr>\n",
              "    <tr>\n",
              "      <th>2</th>\n",
              "      <td>F</td>\n",
              "      <td>2016-04-29</td>\n",
              "      <td>2016-04-29</td>\n",
              "      <td>62</td>\n",
              "      <td>MATA DA PRAIA</td>\n",
              "      <td>0</td>\n",
              "      <td>0</td>\n",
              "      <td>0</td>\n",
              "      <td>0</td>\n",
              "      <td>0</td>\n",
              "      <td>0</td>\n",
              "      <td>No</td>\n",
              "      <td>Friday</td>\n",
              "      <td>Friday</td>\n",
              "      <td>0</td>\n",
              "    </tr>\n",
              "    <tr>\n",
              "      <th>3</th>\n",
              "      <td>F</td>\n",
              "      <td>2016-04-29</td>\n",
              "      <td>2016-04-29</td>\n",
              "      <td>8</td>\n",
              "      <td>PONTAL DE CAMBURI</td>\n",
              "      <td>0</td>\n",
              "      <td>0</td>\n",
              "      <td>0</td>\n",
              "      <td>0</td>\n",
              "      <td>0</td>\n",
              "      <td>0</td>\n",
              "      <td>No</td>\n",
              "      <td>Friday</td>\n",
              "      <td>Friday</td>\n",
              "      <td>0</td>\n",
              "    </tr>\n",
              "    <tr>\n",
              "      <th>4</th>\n",
              "      <td>F</td>\n",
              "      <td>2016-04-29</td>\n",
              "      <td>2016-04-29</td>\n",
              "      <td>56</td>\n",
              "      <td>JARDIM DA PENHA</td>\n",
              "      <td>0</td>\n",
              "      <td>0</td>\n",
              "      <td>0</td>\n",
              "      <td>0</td>\n",
              "      <td>0</td>\n",
              "      <td>0</td>\n",
              "      <td>No</td>\n",
              "      <td>Friday</td>\n",
              "      <td>Friday</td>\n",
              "      <td>0</td>\n",
              "    </tr>\n",
              "  </tbody>\n",
              "</table>\n",
              "</div>"
            ],
            "text/plain": [
              "  Gender ScheduledDay  ... AppointmentDay_DOW  Waiting_Time_days\n",
              "0      F   2016-04-29  ...             Friday                  0\n",
              "1      M   2016-04-29  ...             Friday                  0\n",
              "2      F   2016-04-29  ...             Friday                  0\n",
              "3      F   2016-04-29  ...             Friday                  0\n",
              "4      F   2016-04-29  ...             Friday                  0\n",
              "\n",
              "[5 rows x 15 columns]"
            ]
          },
          "metadata": {
            "tags": []
          },
          "execution_count": 177
        }
      ]
    },
    {
      "cell_type": "code",
      "metadata": {
        "id": "_iEvhvOFbsUw"
      },
      "source": [
        ""
      ],
      "execution_count": 178,
      "outputs": []
    },
    {
      "cell_type": "markdown",
      "metadata": {
        "scrolled": true,
        "id": "LSdZhNL3bsU1"
      },
      "source": [
        "AppointmentDay should be on or after the ScheduledDay. Below we will check if there are any records where there is an inconsistency. In case if the ScheduledDay is after the AppointmentDay we will consider it as an error and correct the ScheduledDay to the AppointmentDay."
      ]
    },
    {
      "cell_type": "code",
      "metadata": {
        "id": "1o3h0pnMbsU2",
        "outputId": "6f33094d-c2bd-4691-cbeb-1b5d21adb016",
        "colab": {
          "base_uri": "https://localhost:8080/",
          "height": 386
        }
      },
      "source": [
        "df.info()"
      ],
      "execution_count": 179,
      "outputs": [
        {
          "output_type": "stream",
          "text": [
            "<class 'pandas.core.frame.DataFrame'>\n",
            "Int64Index: 110519 entries, 0 to 110526\n",
            "Data columns (total 15 columns):\n",
            " #   Column              Non-Null Count   Dtype         \n",
            "---  ------              --------------   -----         \n",
            " 0   Gender              110519 non-null  object        \n",
            " 1   ScheduledDay        110519 non-null  datetime64[ns]\n",
            " 2   AppointmentDay      110519 non-null  datetime64[ns]\n",
            " 3   Age                 110519 non-null  int64         \n",
            " 4   Neighbourhood       110519 non-null  object        \n",
            " 5   Scholarship         110519 non-null  int64         \n",
            " 6   Hypertension        110519 non-null  int64         \n",
            " 7   Diabetes            110519 non-null  int64         \n",
            " 8   Alcoholism          110519 non-null  int64         \n",
            " 9   Handicap            110519 non-null  int64         \n",
            " 10  SMSReceived         110519 non-null  int64         \n",
            " 11  NoShow              110519 non-null  object        \n",
            " 12  ScheduledDay_DOW    110519 non-null  object        \n",
            " 13  AppointmentDay_DOW  110519 non-null  object        \n",
            " 14  Waiting_Time_days   110519 non-null  int64         \n",
            "dtypes: datetime64[ns](2), int64(8), object(5)\n",
            "memory usage: 18.5+ MB\n"
          ],
          "name": "stdout"
        }
      ]
    },
    {
      "cell_type": "code",
      "metadata": {
        "id": "oty6xil4bsU6"
      },
      "source": [
        "import matplotlib.pyplot as plt\n",
        "import seaborn as sns"
      ],
      "execution_count": 180,
      "outputs": []
    },
    {
      "cell_type": "code",
      "metadata": {
        "id": "zT9gFC6rbsU-",
        "outputId": "d7d276c2-3778-44c8-db7a-237873bac0a8",
        "colab": {
          "base_uri": "https://localhost:8080/",
          "height": 295
        }
      },
      "source": [
        "ax = sns.countplot(x=df.Gender, hue=df.NoShow, data=df)\n",
        "ax.set_title(\"Show/NoShow for Females and Males\")\n",
        "x_ticks_labels=['Female', 'Male']\n",
        "ax.set_xticklabels(x_ticks_labels)\n",
        "plt.show()"
      ],
      "execution_count": 181,
      "outputs": [
        {
          "output_type": "display_data",
          "data": {
            "image/png": "[encoded data removed]",
            "text/plain": [
              "<Figure size 432x288 with 1 Axes>"
            ]
          },
          "metadata": {
            "tags": [],
            "needs_background": "light"
          }
        }
      ]
    },
    {
      "cell_type": "code",
      "metadata": {
        "id": "9bO-twU4bsVA",
        "outputId": "e976f5f1-623e-4e7e-ce90-2db303517438",
        "colab": {
          "base_uri": "https://localhost:8080/",
          "height": 304
        }
      },
      "source": [
        "plt.figure(figsize=(16,4))\n",
        "plt.xticks(rotation=90)\n",
        "ax = sns.countplot(x=df.Age)\n",
        "ax.set_title(\"No of Appointments by Age\")\n",
        "plt.show()"
      ],
      "execution_count": 182,
      "outputs": [
        {
          "output_type": "display_data",
          "data": {
            "image/png": "[encoded data removed]",
            "text/plain": [
              "<Figure size 1152x288 with 1 Axes>"
            ]
          },
          "metadata": {
            "tags": [],
            "needs_background": "light"
          }
        }
      ]
    },
    {
      "cell_type": "code",
      "metadata": {
        "id": "0FHOpCGkke50",
        "outputId": "d00b03ac-5630-47a5-e129-52d4629bb195",
        "colab": {
          "base_uri": "https://localhost:8080/",
          "height": 434
        }
      },
      "source": [
        "plt.figure(figsize=(16,4))\n",
        "plt.xticks(rotation=90)\n",
        "ax = sns.countplot(x=np.sort(df.Neighbourhood))\n",
        "ax.set_title(\"No of Appointments by Neighbourhood\")\n",
        "plt.show()"
      ],
      "execution_count": 183,
      "outputs": [
        {
          "output_type": "display_data",
          "data": {
            "image/png": "[encoded data removed]",
            "text/plain": [
              "<Figure size 1152x288 with 1 Axes>"
            ]
          },
          "metadata": {
            "tags": [],
            "needs_background": "light"
          }
        }
      ]
    },
    {
      "cell_type": "code",
      "metadata": {
        "id": "kjcADPAnSfn0",
        "outputId": "88dc94e2-a66c-41f4-b0af-4a38d71ae2ad",
        "colab": {
          "base_uri": "https://localhost:8080/",
          "height": 295
        }
      },
      "source": [
        "ax = sns.countplot(x=df.NoShow, data=df)\n",
        "ax.set_title(\"Show/NoShow Patients\")\n",
        "plt.show()"
      ],
      "execution_count": 184,
      "outputs": [
        {
          "output_type": "display_data",
          "data": {
            "image/png": "[encoded data removed]",
            "text/plain": [
              "<Figure size 432x288 with 1 Axes>"
            ]
          },
          "metadata": {
            "tags": [],
            "needs_background": "light"
          }
        }
      ]
    },
    {
      "cell_type": "code",
      "metadata": {
        "id": "tLybA4OgEzYF",
        "outputId": "1b41afdb-aa74-4058-96f9-73cf5e6cfa55",
        "colab": {
          "base_uri": "https://localhost:8080/",
          "height": 295
        }
      },
      "source": [
        "ax = sns.countplot(x=df.Gender, data=df)\n",
        "ax.set_title(\"Gender\")\n",
        "plt.show()"
      ],
      "execution_count": 185,
      "outputs": [
        {
          "output_type": "display_data",
          "data": {
            "image/png": "[encoded data removed]",
            "text/plain": [
              "<Figure size 432x288 with 1 Axes>"
            ]
          },
          "metadata": {
            "tags": [],
            "needs_background": "light"
          }
        }
      ]
    },
    {
      "cell_type": "code",
      "metadata": {
        "id": "_0nHNjLgE62A",
        "outputId": "41f30eaa-e3a1-4b70-f8f7-259ff694f0fc",
        "colab": {
          "base_uri": "https://localhost:8080/",
          "height": 295
        }
      },
      "source": [
        "ax = sns.countplot(x=df.Hypertension, data=df)\n",
        "ax.set_title(\"Hypertension\")\n",
        "plt.show()"
      ],
      "execution_count": 186,
      "outputs": [
        {
          "output_type": "display_data",
          "data": {
            "image/png": "[encoded data removed]",
            "text/plain": [
              "<Figure size 432x288 with 1 Axes>"
            ]
          },
          "metadata": {
            "tags": [],
            "needs_background": "light"
          }
        }
      ]
    },
    {
      "cell_type": "code",
      "metadata": {
        "id": "wzEk4THEFFel",
        "outputId": "3b377cd6-da30-45c1-d85f-86c019b7d359",
        "colab": {
          "base_uri": "https://localhost:8080/",
          "height": 295
        }
      },
      "source": [
        " ax = sns.countplot(x=df.Diabetes, data=df)\n",
        "ax.set_title(\"Diabetes\")\n",
        "plt.show()"
      ],
      "execution_count": 187,
      "outputs": [
        {
          "output_type": "display_data",
          "data": {
            "image/png": "[encoded data removed]",
            "text/plain": [
              "<Figure size 432x288 with 1 Axes>"
            ]
          },
          "metadata": {
            "tags": [],
            "needs_background": "light"
          }
        }
      ]
    },
    {
      "cell_type": "code",
      "metadata": {
        "id": "XiropXtlFlkd",
        "outputId": "47709c6e-9868-4da5-d2a0-6617eef0929e",
        "colab": {
          "base_uri": "https://localhost:8080/",
          "height": 295
        }
      },
      "source": [
        " ax = sns.countplot(x=df.Alcoholism, data=df)\n",
        "ax.set_title(\"Alcoholism\")\n",
        "plt.show()"
      ],
      "execution_count": 188,
      "outputs": [
        {
          "output_type": "display_data",
          "data": {
            "image/png": "[encoded data removed]",
            "text/plain": [
              "<Figure size 432x288 with 1 Axes>"
            ]
          },
          "metadata": {
            "tags": [],
            "needs_background": "light"
          }
        }
      ]
    },
    {
      "cell_type": "code",
      "metadata": {
        "id": "-ejIcbVJFq1y",
        "outputId": "31cd4441-9e7f-424c-d526-b9d5a6b99976",
        "colab": {
          "base_uri": "https://localhost:8080/",
          "height": 295
        }
      },
      "source": [
        " ax = sns.countplot(x=df.Handicap, data=df)\n",
        "ax.set_title(\"Handicap\")\n",
        "plt.show()"
      ],
      "execution_count": 189,
      "outputs": [
        {
          "output_type": "display_data",
          "data": {
            "image/png": "[encoded data removed]",
            "text/plain": [
              "<Figure size 432x288 with 1 Axes>"
            ]
          },
          "metadata": {
            "tags": [],
            "needs_background": "light"
          }
        }
      ]
    },
    {
      "cell_type": "code",
      "metadata": {
        "id": "BW1MveCRF0ZK",
        "outputId": "b3341c54-9b57-4869-e2fb-1029a613948c",
        "colab": {
          "base_uri": "https://localhost:8080/",
          "height": 295
        }
      },
      "source": [
        " ax = sns.countplot(x=df.Scholarship, data=df)\n",
        "ax.set_title(\"Scholarship\")\n",
        "plt.show()\n"
      ],
      "execution_count": 190,
      "outputs": [
        {
          "output_type": "display_data",
          "data": {
            "image/png": "[encoded data removed]",
            "text/plain": [
              "<Figure size 432x288 with 1 Axes>"
            ]
          },
          "metadata": {
            "tags": [],
            "needs_background": "light"
          }
        }
      ]
    },
    {
      "cell_type": "code",
      "metadata": {
        "id": "F1Q4XQMbGHDU"
      },
      "source": [
        "from sklearn.linear_model import LogisticRegression\n",
        "from sklearn.tree import DecisionTreeClassifier\n",
        "from sklearn.model_selection import train_test_split\n",
        "from sklearn.preprocessing import LabelEncoder"
      ],
      "execution_count": 191,
      "outputs": []
    },
    {
      "cell_type": "code",
      "metadata": {
        "id": "o26BW2owOpSr",
        "outputId": "1dd3e871-2f12-48a0-f6e0-e794526aaa14",
        "colab": {
          "base_uri": "https://localhost:8080/",
          "height": 34
        }
      },
      "source": [
        "#Gender\n",
        "le = LabelEncoder()\n",
        "df['Gender'] = le.fit_transform(df['Gender'])\n",
        "#Neighbourhood\n",
        "le = LabelEncoder()\n",
        "df['Neighbourhood'] = le.fit_transform(df['Neighbourhood'])\n",
        "#ScheduledDay_DOW\n",
        "le = LabelEncoder()\n",
        "df['ScheduledDay_DOW'] = le.fit_transform(df['ScheduledDay_DOW'])\n",
        "#AppointmentDay_DOW\n",
        "le = LabelEncoder()\n",
        "df['AppointmentDay_DOW'] = le.fit_transform(df['AppointmentDay_DOW'])\n",
        "print(\"LabelEncoder Completed\")\n",
        "\n",
        "#NoShow\n",
        "le = LabelEncoder()\n",
        "df['NoShow'] = le.fit_transform(df['NoShow'])"
      ],
      "execution_count": 192,
      "outputs": [
        {
          "output_type": "stream",
          "text": [
            "LabelEncoder Completed\n"
          ],
          "name": "stdout"
        }
      ]
    },
    {
      "cell_type": "code",
      "metadata": {
        "id": "dMc3xf7wfBPy"
      },
      "source": [
        "df['ScheduledDay_Y'] = df['ScheduledDay'].dt.year\n",
        "df['ScheduledDay_M'] = df['ScheduledDay'].dt.month\n",
        "df['ScheduledDay_D'] = df['ScheduledDay'].dt.day\n",
        "df.drop(['ScheduledDay'], axis=1, inplace=True)\n",
        "\n",
        "df['AppointmentDay_Y'] = df['AppointmentDay'].dt.year\n",
        "df['AppointmentDay_M'] = df['AppointmentDay'].dt.month\n",
        "df['AppointmentDay_D'] = df['AppointmentDay'].dt.day\n",
        "df.drop(['AppointmentDay'], axis=1, inplace=True)"
      ],
      "execution_count": 193,
      "outputs": []
    },
    {
      "cell_type": "code",
      "metadata": {
        "id": "UwLc2d83TZoM"
      },
      "source": [
        "df.drop(columns=['AppointmentDay_Y','ScheduledDay_Y'], inplace=True)"
      ],
      "execution_count": 195,
      "outputs": []
    },
    {
      "cell_type": "code",
      "metadata": {
        "id": "MJjQ3ASRbWh2",
        "outputId": "95cf275a-1d7f-4fd2-9f8a-b937a2517594",
        "colab": {
          "base_uri": "https://localhost:8080/",
          "height": 215
        }
      },
      "source": [
        "df.head()"
      ],
      "execution_count": 196,
      "outputs": [
        {
          "output_type": "execute_result",
          "data": {
            "text/html": [
              "<div>\n",
              "<style scoped>\n",
              "    .dataframe tbody tr th:only-of-type {\n",
              "        vertical-align: middle;\n",
              "    }\n",
              "\n",
              "    .dataframe tbody tr th {\n",
              "        vertical-align: top;\n",
              "    }\n",
              "\n",
              "    .dataframe thead th {\n",
              "        text-align: right;\n",
              "    }\n",
              "</style>\n",
              "<table border=\"1\" class=\"dataframe\">\n",
              "  <thead>\n",
              "    <tr style=\"text-align: right;\">\n",
              "      <th></th>\n",
              "      <th>Gender</th>\n",
              "      <th>Age</th>\n",
              "      <th>Neighbourhood</th>\n",
              "      <th>Scholarship</th>\n",
              "      <th>Hypertension</th>\n",
              "      <th>Diabetes</th>\n",
              "      <th>Alcoholism</th>\n",
              "      <th>Handicap</th>\n",
              "      <th>SMSReceived</th>\n",
              "      <th>NoShow</th>\n",
              "      <th>ScheduledDay_DOW</th>\n",
              "      <th>AppointmentDay_DOW</th>\n",
              "      <th>Waiting_Time_days</th>\n",
              "      <th>ScheduledDay_M</th>\n",
              "      <th>ScheduledDay_D</th>\n",
              "      <th>AppointmentDay_M</th>\n",
              "      <th>AppointmentDay_D</th>\n",
              "    </tr>\n",
              "  </thead>\n",
              "  <tbody>\n",
              "    <tr>\n",
              "      <th>0</th>\n",
              "      <td>0</td>\n",
              "      <td>62</td>\n",
              "      <td>39</td>\n",
              "      <td>0</td>\n",
              "      <td>0</td>\n",
              "      <td>0</td>\n",
              "      <td>0</td>\n",
              "      <td>0</td>\n",
              "      <td>0</td>\n",
              "      <td>0</td>\n",
              "      <td>0</td>\n",
              "      <td>0</td>\n",
              "      <td>0</td>\n",
              "      <td>4</td>\n",
              "      <td>29</td>\n",
              "      <td>4</td>\n",
              "      <td>29</td>\n",
              "    </tr>\n",
              "    <tr>\n",
              "      <th>1</th>\n",
              "      <td>1</td>\n",
              "      <td>56</td>\n",
              "      <td>39</td>\n",
              "      <td>0</td>\n",
              "      <td>0</td>\n",
              "      <td>0</td>\n",
              "      <td>0</td>\n",
              "      <td>0</td>\n",
              "      <td>0</td>\n",
              "      <td>0</td>\n",
              "      <td>0</td>\n",
              "      <td>0</td>\n",
              "      <td>0</td>\n",
              "      <td>4</td>\n",
              "      <td>29</td>\n",
              "      <td>4</td>\n",
              "      <td>29</td>\n",
              "    </tr>\n",
              "    <tr>\n",
              "      <th>2</th>\n",
              "      <td>0</td>\n",
              "      <td>62</td>\n",
              "      <td>45</td>\n",
              "      <td>0</td>\n",
              "      <td>0</td>\n",
              "      <td>0</td>\n",
              "      <td>0</td>\n",
              "      <td>0</td>\n",
              "      <td>0</td>\n",
              "      <td>0</td>\n",
              "      <td>0</td>\n",
              "      <td>0</td>\n",
              "      <td>0</td>\n",
              "      <td>4</td>\n",
              "      <td>29</td>\n",
              "      <td>4</td>\n",
              "      <td>29</td>\n",
              "    </tr>\n",
              "    <tr>\n",
              "      <th>3</th>\n",
              "      <td>0</td>\n",
              "      <td>8</td>\n",
              "      <td>54</td>\n",
              "      <td>0</td>\n",
              "      <td>0</td>\n",
              "      <td>0</td>\n",
              "      <td>0</td>\n",
              "      <td>0</td>\n",
              "      <td>0</td>\n",
              "      <td>0</td>\n",
              "      <td>0</td>\n",
              "      <td>0</td>\n",
              "      <td>0</td>\n",
              "      <td>4</td>\n",
              "      <td>29</td>\n",
              "      <td>4</td>\n",
              "      <td>29</td>\n",
              "    </tr>\n",
              "    <tr>\n",
              "      <th>4</th>\n",
              "      <td>0</td>\n",
              "      <td>56</td>\n",
              "      <td>39</td>\n",
              "      <td>0</td>\n",
              "      <td>0</td>\n",
              "      <td>0</td>\n",
              "      <td>0</td>\n",
              "      <td>0</td>\n",
              "      <td>0</td>\n",
              "      <td>0</td>\n",
              "      <td>0</td>\n",
              "      <td>0</td>\n",
              "      <td>0</td>\n",
              "      <td>4</td>\n",
              "      <td>29</td>\n",
              "      <td>4</td>\n",
              "      <td>29</td>\n",
              "    </tr>\n",
              "  </tbody>\n",
              "</table>\n",
              "</div>"
            ],
            "text/plain": [
              "   Gender  Age  ...  AppointmentDay_M  AppointmentDay_D\n",
              "0       0   62  ...                 4                29\n",
              "1       1   56  ...                 4                29\n",
              "2       0   62  ...                 4                29\n",
              "3       0    8  ...                 4                29\n",
              "4       0   56  ...                 4                29\n",
              "\n",
              "[5 rows x 17 columns]"
            ]
          },
          "metadata": {
            "tags": []
          },
          "execution_count": 196
        }
      ]
    },
    {
      "cell_type": "code",
      "metadata": {
        "id": "DqJPa7qWUQcy",
        "outputId": "63f7c8c3-c653-46e2-cd05-aeb71f30cc00",
        "colab": {
          "base_uri": "https://localhost:8080/",
          "height": 215
        }
      },
      "source": [
        "df.head()"
      ],
      "execution_count": 198,
      "outputs": [
        {
          "output_type": "execute_result",
          "data": {
            "text/html": [
              "<div>\n",
              "<style scoped>\n",
              "    .dataframe tbody tr th:only-of-type {\n",
              "        vertical-align: middle;\n",
              "    }\n",
              "\n",
              "    .dataframe tbody tr th {\n",
              "        vertical-align: top;\n",
              "    }\n",
              "\n",
              "    .dataframe thead th {\n",
              "        text-align: right;\n",
              "    }\n",
              "</style>\n",
              "<table border=\"1\" class=\"dataframe\">\n",
              "  <thead>\n",
              "    <tr style=\"text-align: right;\">\n",
              "      <th></th>\n",
              "      <th>Gender</th>\n",
              "      <th>Age</th>\n",
              "      <th>Neighbourhood</th>\n",
              "      <th>Scholarship</th>\n",
              "      <th>Hypertension</th>\n",
              "      <th>Diabetes</th>\n",
              "      <th>Alcoholism</th>\n",
              "      <th>Handicap</th>\n",
              "      <th>SMSReceived</th>\n",
              "      <th>NoShow</th>\n",
              "      <th>ScheduledDay_DOW</th>\n",
              "      <th>AppointmentDay_DOW</th>\n",
              "      <th>Waiting_Time_days</th>\n",
              "      <th>ScheduledDay_M</th>\n",
              "      <th>ScheduledDay_D</th>\n",
              "      <th>AppointmentDay_M</th>\n",
              "      <th>AppointmentDay_D</th>\n",
              "    </tr>\n",
              "  </thead>\n",
              "  <tbody>\n",
              "    <tr>\n",
              "      <th>0</th>\n",
              "      <td>0</td>\n",
              "      <td>62</td>\n",
              "      <td>39</td>\n",
              "      <td>0</td>\n",
              "      <td>0</td>\n",
              "      <td>0</td>\n",
              "      <td>0</td>\n",
              "      <td>0</td>\n",
              "      <td>0</td>\n",
              "      <td>0</td>\n",
              "      <td>0</td>\n",
              "      <td>0</td>\n",
              "      <td>0</td>\n",
              "      <td>4</td>\n",
              "      <td>29</td>\n",
              "      <td>4</td>\n",
              "      <td>29</td>\n",
              "    </tr>\n",
              "    <tr>\n",
              "      <th>1</th>\n",
              "      <td>1</td>\n",
              "      <td>56</td>\n",
              "      <td>39</td>\n",
              "      <td>0</td>\n",
              "      <td>0</td>\n",
              "      <td>0</td>\n",
              "      <td>0</td>\n",
              "      <td>0</td>\n",
              "      <td>0</td>\n",
              "      <td>0</td>\n",
              "      <td>0</td>\n",
              "      <td>0</td>\n",
              "      <td>0</td>\n",
              "      <td>4</td>\n",
              "      <td>29</td>\n",
              "      <td>4</td>\n",
              "      <td>29</td>\n",
              "    </tr>\n",
              "    <tr>\n",
              "      <th>2</th>\n",
              "      <td>0</td>\n",
              "      <td>62</td>\n",
              "      <td>45</td>\n",
              "      <td>0</td>\n",
              "      <td>0</td>\n",
              "      <td>0</td>\n",
              "      <td>0</td>\n",
              "      <td>0</td>\n",
              "      <td>0</td>\n",
              "      <td>0</td>\n",
              "      <td>0</td>\n",
              "      <td>0</td>\n",
              "      <td>0</td>\n",
              "      <td>4</td>\n",
              "      <td>29</td>\n",
              "      <td>4</td>\n",
              "      <td>29</td>\n",
              "    </tr>\n",
              "    <tr>\n",
              "      <th>3</th>\n",
              "      <td>0</td>\n",
              "      <td>8</td>\n",
              "      <td>54</td>\n",
              "      <td>0</td>\n",
              "      <td>0</td>\n",
              "      <td>0</td>\n",
              "      <td>0</td>\n",
              "      <td>0</td>\n",
              "      <td>0</td>\n",
              "      <td>0</td>\n",
              "      <td>0</td>\n",
              "      <td>0</td>\n",
              "      <td>0</td>\n",
              "      <td>4</td>\n",
              "      <td>29</td>\n",
              "      <td>4</td>\n",
              "      <td>29</td>\n",
              "    </tr>\n",
              "    <tr>\n",
              "      <th>4</th>\n",
              "      <td>0</td>\n",
              "      <td>56</td>\n",
              "      <td>39</td>\n",
              "      <td>0</td>\n",
              "      <td>0</td>\n",
              "      <td>0</td>\n",
              "      <td>0</td>\n",
              "      <td>0</td>\n",
              "      <td>0</td>\n",
              "      <td>0</td>\n",
              "      <td>0</td>\n",
              "      <td>0</td>\n",
              "      <td>0</td>\n",
              "      <td>4</td>\n",
              "      <td>29</td>\n",
              "      <td>4</td>\n",
              "      <td>29</td>\n",
              "    </tr>\n",
              "  </tbody>\n",
              "</table>\n",
              "</div>"
            ],
            "text/plain": [
              "   Gender  Age  ...  AppointmentDay_M  AppointmentDay_D\n",
              "0       0   62  ...                 4                29\n",
              "1       1   56  ...                 4                29\n",
              "2       0   62  ...                 4                29\n",
              "3       0    8  ...                 4                29\n",
              "4       0   56  ...                 4                29\n",
              "\n",
              "[5 rows x 17 columns]"
            ]
          },
          "metadata": {
            "tags": []
          },
          "execution_count": 198
        }
      ]
    },
    {
      "cell_type": "code",
      "metadata": {
        "id": "f4MRGjQKbNQo",
        "outputId": "72b01e8e-48a5-4fbf-9def-6c2137d15564",
        "colab": {
          "base_uri": "https://localhost:8080/",
          "height": 555
        }
      },
      "source": [
        "y = df['NoShow']"
      ],
      "execution_count": 206,
      "outputs": [
        {
          "output_type": "error",
          "ename": "KeyError",
          "evalue": "ignored",
          "traceback": [
            "\u001b[0;31m---------------------------------------------------------------------------\u001b[0m",
            "\u001b[0;31mKeyError\u001b[0m                                  Traceback (most recent call last)",
            "\u001b[0;32m/usr/local/lib/python3.6/dist-packages/pandas/core/indexes/base.py\u001b[0m in \u001b[0;36mget_loc\u001b[0;34m(self, key, method, tolerance)\u001b[0m\n\u001b[1;32m   2890\u001b[0m             \u001b[0;32mtry\u001b[0m\u001b[0;34m:\u001b[0m\u001b[0;34m\u001b[0m\u001b[0;34m\u001b[0m\u001b[0m\n\u001b[0;32m-> 2891\u001b[0;31m                 \u001b[0;32mreturn\u001b[0m \u001b[0mself\u001b[0m\u001b[0;34m.\u001b[0m\u001b[0m_engine\u001b[0m\u001b[0;34m.\u001b[0m\u001b[0mget_loc\u001b[0m\u001b[0;34m(\u001b[0m\u001b[0mcasted_key\u001b[0m\u001b[0;34m)\u001b[0m\u001b[0;34m\u001b[0m\u001b[0;34m\u001b[0m\u001b[0m\n\u001b[0m\u001b[1;32m   2892\u001b[0m             \u001b[0;32mexcept\u001b[0m \u001b[0mKeyError\u001b[0m \u001b[0;32mas\u001b[0m \u001b[0merr\u001b[0m\u001b[0;34m:\u001b[0m\u001b[0;34m\u001b[0m\u001b[0;34m\u001b[0m\u001b[0m\n",
            "\u001b[0;32mpandas/_libs/index.pyx\u001b[0m in \u001b[0;36mpandas._libs.index.IndexEngine.get_loc\u001b[0;34m()\u001b[0m\n",
            "\u001b[0;32mpandas/_libs/index.pyx\u001b[0m in \u001b[0;36mpandas._libs.index.IndexEngine.get_loc\u001b[0;34m()\u001b[0m\n",
            "\u001b[0;32mpandas/_libs/hashtable_class_helper.pxi\u001b[0m in \u001b[0;36mpandas._libs.hashtable.PyObjectHashTable.get_item\u001b[0;34m()\u001b[0m\n",
            "\u001b[0;32mpandas/_libs/hashtable_class_helper.pxi\u001b[0m in \u001b[0;36mpandas._libs.hashtable.PyObjectHashTable.get_item\u001b[0;34m()\u001b[0m\n",
            "\u001b[0;31mKeyError\u001b[0m: 'NoShow'",
            "\nThe above exception was the direct cause of the following exception:\n",
            "\u001b[0;31mKeyError\u001b[0m                                  Traceback (most recent call last)",
            "\u001b[0;32m<ipython-input-206-641b95f1309f>\u001b[0m in \u001b[0;36m<module>\u001b[0;34m()\u001b[0m\n\u001b[0;32m----> 1\u001b[0;31m \u001b[0my\u001b[0m \u001b[0;34m=\u001b[0m \u001b[0mdf\u001b[0m\u001b[0;34m[\u001b[0m\u001b[0;34m'NoShow'\u001b[0m\u001b[0;34m]\u001b[0m\u001b[0;34m\u001b[0m\u001b[0;34m\u001b[0m\u001b[0m\n\u001b[0m\u001b[1;32m      2\u001b[0m \u001b[0my\u001b[0m\u001b[0;34m.\u001b[0m\u001b[0mshape\u001b[0m\u001b[0;34m\u001b[0m\u001b[0;34m\u001b[0m\u001b[0m\n",
            "\u001b[0;32m/usr/local/lib/python3.6/dist-packages/pandas/core/frame.py\u001b[0m in \u001b[0;36m__getitem__\u001b[0;34m(self, key)\u001b[0m\n\u001b[1;32m   2900\u001b[0m             \u001b[0;32mif\u001b[0m \u001b[0mself\u001b[0m\u001b[0;34m.\u001b[0m\u001b[0mcolumns\u001b[0m\u001b[0;34m.\u001b[0m\u001b[0mnlevels\u001b[0m \u001b[0;34m>\u001b[0m \u001b[0;36m1\u001b[0m\u001b[0;34m:\u001b[0m\u001b[0;34m\u001b[0m\u001b[0;34m\u001b[0m\u001b[0m\n\u001b[1;32m   2901\u001b[0m                 \u001b[0;32mreturn\u001b[0m \u001b[0mself\u001b[0m\u001b[0;34m.\u001b[0m\u001b[0m_getitem_multilevel\u001b[0m\u001b[0;34m(\u001b[0m\u001b[0mkey\u001b[0m\u001b[0;34m)\u001b[0m\u001b[0;34m\u001b[0m\u001b[0;34m\u001b[0m\u001b[0m\n\u001b[0;32m-> 2902\u001b[0;31m             \u001b[0mindexer\u001b[0m \u001b[0;34m=\u001b[0m \u001b[0mself\u001b[0m\u001b[0;34m.\u001b[0m\u001b[0mcolumns\u001b[0m\u001b[0;34m.\u001b[0m\u001b[0mget_loc\u001b[0m\u001b[0;34m(\u001b[0m\u001b[0mkey\u001b[0m\u001b[0;34m)\u001b[0m\u001b[0;34m\u001b[0m\u001b[0;34m\u001b[0m\u001b[0m\n\u001b[0m\u001b[1;32m   2903\u001b[0m             \u001b[0;32mif\u001b[0m \u001b[0mis_integer\u001b[0m\u001b[0;34m(\u001b[0m\u001b[0mindexer\u001b[0m\u001b[0;34m)\u001b[0m\u001b[0;34m:\u001b[0m\u001b[0;34m\u001b[0m\u001b[0;34m\u001b[0m\u001b[0m\n\u001b[1;32m   2904\u001b[0m                 \u001b[0mindexer\u001b[0m \u001b[0;34m=\u001b[0m \u001b[0;34m[\u001b[0m\u001b[0mindexer\u001b[0m\u001b[0;34m]\u001b[0m\u001b[0;34m\u001b[0m\u001b[0;34m\u001b[0m\u001b[0m\n",
            "\u001b[0;32m/usr/local/lib/python3.6/dist-packages/pandas/core/indexes/base.py\u001b[0m in \u001b[0;36mget_loc\u001b[0;34m(self, key, method, tolerance)\u001b[0m\n\u001b[1;32m   2891\u001b[0m                 \u001b[0;32mreturn\u001b[0m \u001b[0mself\u001b[0m\u001b[0;34m.\u001b[0m\u001b[0m_engine\u001b[0m\u001b[0;34m.\u001b[0m\u001b[0mget_loc\u001b[0m\u001b[0;34m(\u001b[0m\u001b[0mcasted_key\u001b[0m\u001b[0;34m)\u001b[0m\u001b[0;34m\u001b[0m\u001b[0;34m\u001b[0m\u001b[0m\n\u001b[1;32m   2892\u001b[0m             \u001b[0;32mexcept\u001b[0m \u001b[0mKeyError\u001b[0m \u001b[0;32mas\u001b[0m \u001b[0merr\u001b[0m\u001b[0;34m:\u001b[0m\u001b[0;34m\u001b[0m\u001b[0;34m\u001b[0m\u001b[0m\n\u001b[0;32m-> 2893\u001b[0;31m                 \u001b[0;32mraise\u001b[0m \u001b[0mKeyError\u001b[0m\u001b[0;34m(\u001b[0m\u001b[0mkey\u001b[0m\u001b[0;34m)\u001b[0m \u001b[0;32mfrom\u001b[0m \u001b[0merr\u001b[0m\u001b[0;34m\u001b[0m\u001b[0;34m\u001b[0m\u001b[0m\n\u001b[0m\u001b[1;32m   2894\u001b[0m \u001b[0;34m\u001b[0m\u001b[0m\n\u001b[1;32m   2895\u001b[0m         \u001b[0;32mif\u001b[0m \u001b[0mtolerance\u001b[0m \u001b[0;32mis\u001b[0m \u001b[0;32mnot\u001b[0m \u001b[0;32mNone\u001b[0m\u001b[0;34m:\u001b[0m\u001b[0;34m\u001b[0m\u001b[0;34m\u001b[0m\u001b[0m\n",
            "\u001b[0;31mKeyError\u001b[0m: 'NoShow'"
          ]
        }
      ]
    },
    {
      "cell_type": "code",
      "metadata": {
        "id": "KO2zVWbisp9Z"
      },
      "source": [
        "df.drop(columns=['NoShow'], inplace=True)"
      ],
      "execution_count": 204,
      "outputs": []
    },
    {
      "cell_type": "code",
      "metadata": {
        "id": "MDePzGzBtMri",
        "outputId": "54efada0-2245-4a0d-eab8-3b00fab4ff33",
        "colab": {
          "base_uri": "https://localhost:8080/",
          "height": 178
        }
      },
      "source": [
        "y=y.values.reshape(-1, 1)"
      ],
      "execution_count": 217,
      "outputs": [
        {
          "output_type": "error",
          "ename": "AttributeError",
          "evalue": "ignored",
          "traceback": [
            "\u001b[0;31m---------------------------------------------------------------------------\u001b[0m",
            "\u001b[0;31mAttributeError\u001b[0m                            Traceback (most recent call last)",
            "\u001b[0;32m<ipython-input-217-4903ec397b31>\u001b[0m in \u001b[0;36m<module>\u001b[0;34m()\u001b[0m\n\u001b[0;32m----> 1\u001b[0;31m \u001b[0my\u001b[0m\u001b[0;34m=\u001b[0m\u001b[0my\u001b[0m\u001b[0;34m.\u001b[0m\u001b[0mvalues\u001b[0m\u001b[0;34m.\u001b[0m\u001b[0mreshape\u001b[0m\u001b[0;34m(\u001b[0m\u001b[0;34m-\u001b[0m\u001b[0;36m1\u001b[0m\u001b[0;34m,\u001b[0m \u001b[0;36m1\u001b[0m\u001b[0;34m)\u001b[0m\u001b[0;34m\u001b[0m\u001b[0;34m\u001b[0m\u001b[0m\n\u001b[0m\u001b[1;32m      2\u001b[0m \u001b[0mx\u001b[0m\u001b[0;34m=\u001b[0m\u001b[0mx\u001b[0m\u001b[0;34m.\u001b[0m\u001b[0mvalues\u001b[0m\u001b[0;34m.\u001b[0m\u001b[0mreshape\u001b[0m\u001b[0;34m(\u001b[0m\u001b[0;34m-\u001b[0m\u001b[0;36m1\u001b[0m\u001b[0;34m,\u001b[0m\u001b[0;36m1\u001b[0m\u001b[0;34m)\u001b[0m\u001b[0;34m\u001b[0m\u001b[0;34m\u001b[0m\u001b[0m\n",
            "\u001b[0;31mAttributeError\u001b[0m: 'numpy.ndarray' object has no attribute 'values'"
          ]
        }
      ]
    },
    {
      "cell_type": "code",
      "metadata": {
        "id": "lej6A8fjv2qd"
      },
      "source": [
        "x=df"
      ],
      "execution_count": 222,
      "outputs": []
    },
    {
      "cell_type": "code",
      "metadata": {
        "id": "_Vu_68JQPLMb"
      },
      "source": [
        "train_x1, test_x1, train_y1, test_y1 = train_test_split(x ,y , test_size=0.2, random_state=0)"
      ],
      "execution_count": 223,
      "outputs": []
    },
    {
      "cell_type": "code",
      "metadata": {
        "id": "-QBWCiMlPjNg"
      },
      "source": [
        "regressor = LogisticRegression()"
      ],
      "execution_count": 224,
      "outputs": []
    },
    {
      "cell_type": "code",
      "metadata": {
        "id": "9pA3ttlNRe-j",
        "outputId": "3525a8e8-adee-4818-c4ff-3af48313eb6a",
        "colab": {
          "base_uri": "https://localhost:8080/",
          "height": 205
        }
      },
      "source": [
        "fit1 = regressor.fit(train_x1, train_y1)"
      ],
      "execution_count": 226,
      "outputs": [
        {
          "output_type": "stream",
          "text": [
            "/usr/local/lib/python3.6/dist-packages/sklearn/utils/validation.py:760: DataConversionWarning: A column-vector y was passed when a 1d array was expected. Please change the shape of y to (n_samples, ), for example using ravel().\n",
            "  y = column_or_1d(y, warn=True)\n",
            "/usr/local/lib/python3.6/dist-packages/sklearn/linear_model/_logistic.py:940: ConvergenceWarning: lbfgs failed to converge (status=1):\n",
            "STOP: TOTAL NO. of ITERATIONS REACHED LIMIT.\n",
            "\n",
            "Increase the number of iterations (max_iter) or scale the data as shown in:\n",
            "    https://scikit-learn.org/stable/modules/preprocessing.html\n",
            "Please also refer to the documentation for alternative solver options:\n",
            "    https://scikit-learn.org/stable/modules/linear_model.html#logistic-regression\n",
            "  extra_warning_msg=_LOGISTIC_SOLVER_CONVERGENCE_MSG)\n"
          ],
          "name": "stderr"
        }
      ]
    },
    {
      "cell_type": "code",
      "metadata": {
        "id": "68nz6B4ASBjG"
      },
      "source": [
        "pred_y1 = regressor.predict(test_x1)"
      ],
      "execution_count": 227,
      "outputs": []
    },
    {
      "cell_type": "code",
      "metadata": {
        "id": "BXYMFj6Pxe0c"
      },
      "source": [
        "from sklearn.metrics import accuracy_score"
      ],
      "execution_count": 232,
      "outputs": []
    },
    {
      "cell_type": "code",
      "metadata": {
        "id": "uwB6oGnqxn5N",
        "outputId": "3c916063-0c31-438c-e9dc-780054436c5b",
        "colab": {
          "base_uri": "https://localhost:8080/",
          "height": 34
        }
      },
      "source": [
        "accuracy_score(test_y1, pred_y1)"
      ],
      "execution_count": 234,
      "outputs": [
        {
          "output_type": "execute_result",
          "data": {
            "text/plain": [
              "0.7958740499457112"
            ]
          },
          "metadata": {
            "tags": []
          },
          "execution_count": 234
        }
      ]
    },
    {
      "cell_type": "code",
      "metadata": {
        "id": "kmhnlVUfx4pv"
      },
      "source": [
        "regressor_improved = LogisticRegression(penalty='l2', solver='liblinear', tol=1e+1, random_state=0)"
      ],
      "execution_count": 389,
      "outputs": []
    },
    {
      "cell_type": "code",
      "metadata": {
        "id": "QLcsEbSLzZB6",
        "outputId": "22d7d840-bff7-4ec1-abdf-2a674674cb13",
        "colab": {
          "base_uri": "https://localhost:8080/",
          "height": 154
        }
      },
      "source": [
        "regressor_improved.fit(train_x1, train_y1)"
      ],
      "execution_count": 390,
      "outputs": [
        {
          "output_type": "stream",
          "text": [
            "/usr/local/lib/python3.6/dist-packages/sklearn/utils/validation.py:760: DataConversionWarning: A column-vector y was passed when a 1d array was expected. Please change the shape of y to (n_samples, ), for example using ravel().\n",
            "  y = column_or_1d(y, warn=True)\n"
          ],
          "name": "stderr"
        },
        {
          "output_type": "execute_result",
          "data": {
            "text/plain": [
              "LogisticRegression(C=1.0, class_weight=None, dual=False, fit_intercept=True,\n",
              "                   intercept_scaling=1, l1_ratio=None, max_iter=100,\n",
              "                   multi_class='auto', n_jobs=None, penalty='l2',\n",
              "                   random_state=0, solver='sag', tol=10.0, verbose=0,\n",
              "                   warm_start=False)"
            ]
          },
          "metadata": {
            "tags": []
          },
          "execution_count": 390
        }
      ]
    },
    {
      "cell_type": "code",
      "metadata": {
        "id": "0ZGTw5h1zfEK"
      },
      "source": [
        "pred_y1_improved = regressor_improved.predict(test_x1)"
      ],
      "execution_count": 391,
      "outputs": []
    },
    {
      "cell_type": "code",
      "metadata": {
        "id": "hjMpeRRvzj8d",
        "outputId": "bcf0a02d-196b-49d2-9d33-623298646b48",
        "colab": {
          "base_uri": "https://localhost:8080/",
          "height": 34
        }
      },
      "source": [
        "accuracy_score(test_y1, pred_y1_improved)"
      ],
      "execution_count": 392,
      "outputs": [
        {
          "output_type": "execute_result",
          "data": {
            "text/plain": [
              "0.7990408975750996"
            ]
          },
          "metadata": {
            "tags": []
          },
          "execution_count": 392
        }
      ]
    },
    {
      "cell_type": "code",
      "metadata": {
        "id": "elLIWvUlznQC"
      },
      "source": [
        "#Improved Accuracy Score for Logictic Regression"
      ],
      "execution_count": 396,
      "outputs": []
    },
    {
      "cell_type": "code",
      "metadata": {
        "id": "ORpRF0NJ8R2Q"
      },
      "source": [
        "tree = DecisionTreeClassifier()"
      ],
      "execution_count": 397,
      "outputs": []
    },
    {
      "cell_type": "code",
      "metadata": {
        "id": "6dUA-WD09j7C",
        "outputId": "731f4b17-9128-425b-d032-5fd3e3f980a8",
        "colab": {
          "base_uri": "https://localhost:8080/",
          "height": 118
        }
      },
      "source": [
        "tree.fit(train_x1, train_y1)"
      ],
      "execution_count": 398,
      "outputs": [
        {
          "output_type": "execute_result",
          "data": {
            "text/plain": [
              "DecisionTreeClassifier(ccp_alpha=0.0, class_weight=None, criterion='gini',\n",
              "                       max_depth=None, max_features=None, max_leaf_nodes=None,\n",
              "                       min_impurity_decrease=0.0, min_impurity_split=None,\n",
              "                       min_samples_leaf=1, min_samples_split=2,\n",
              "                       min_weight_fraction_leaf=0.0, presort='deprecated',\n",
              "                       random_state=None, splitter='best')"
            ]
          },
          "metadata": {
            "tags": []
          },
          "execution_count": 398
        }
      ]
    },
    {
      "cell_type": "code",
      "metadata": {
        "id": "eVR_xq2Z9qJz"
      },
      "source": [
        "pred_y2=tree.predict(test_x1)"
      ],
      "execution_count": 400,
      "outputs": []
    },
    {
      "cell_type": "code",
      "metadata": {
        "id": "fO_R8wDJ9yDU",
        "outputId": "11b98bf0-924a-4115-a891-8715ceb070e5",
        "colab": {
          "base_uri": "https://localhost:8080/",
          "height": 34
        }
      },
      "source": [
        "accuracy_score(test_y1, pred_y2)"
      ],
      "execution_count": 401,
      "outputs": [
        {
          "output_type": "execute_result",
          "data": {
            "text/plain": [
              "0.7280130293159609"
            ]
          },
          "metadata": {
            "tags": []
          },
          "execution_count": 401
        }
      ]
    },
    {
      "cell_type": "code",
      "metadata": {
        "id": "ifrp2NNm93_f"
      },
      "source": [
        "tree_improved = DecisionTreeClassifier(random_state=0, min_samples_split=1000, max_depth=2)"
      ],
      "execution_count": 470,
      "outputs": []
    },
    {
      "cell_type": "code",
      "metadata": {
        "id": "cgIJuKH9-HDx",
        "outputId": "e79ac596-b338-4eed-aa4a-ebec9b72debd",
        "colab": {
          "base_uri": "https://localhost:8080/",
          "height": 118
        }
      },
      "source": [
        "tree_improved.fit(train_x1, train_y1)"
      ],
      "execution_count": 471,
      "outputs": [
        {
          "output_type": "execute_result",
          "data": {
            "text/plain": [
              "DecisionTreeClassifier(ccp_alpha=0.0, class_weight=None, criterion='gini',\n",
              "                       max_depth=2, max_features=None, max_leaf_nodes=None,\n",
              "                       min_impurity_decrease=0.0, min_impurity_split=None,\n",
              "                       min_samples_leaf=1, min_samples_split=1000,\n",
              "                       min_weight_fraction_leaf=0.0, presort='deprecated',\n",
              "                       random_state=0, splitter='best')"
            ]
          },
          "metadata": {
            "tags": []
          },
          "execution_count": 471
        }
      ]
    },
    {
      "cell_type": "code",
      "metadata": {
        "id": "WtZLoONR-Jp4"
      },
      "source": [
        "pred_y2_improved=tree_improved.predict(test_x1)"
      ],
      "execution_count": 472,
      "outputs": []
    },
    {
      "cell_type": "code",
      "metadata": {
        "id": "S8t3NXZf-M7R",
        "outputId": "3c1c779e-ea25-4bcf-df1f-91bebfce6fd9",
        "colab": {
          "base_uri": "https://localhost:8080/",
          "height": 34
        }
      },
      "source": [
        "accuracy_score(test_y1, pred_y2_improved)"
      ],
      "execution_count": 473,
      "outputs": [
        {
          "output_type": "execute_result",
          "data": {
            "text/plain": [
              "0.7998099891422367"
            ]
          },
          "metadata": {
            "tags": []
          },
          "execution_count": 473
        }
      ]
    },
    {
      "cell_type": "code",
      "metadata": {
        "id": "URMMauou-O0s"
      },
      "source": [
        "#Improved Accuracy Score for Decison Tree Classifier"
      ],
      "execution_count": 474,
      "outputs": []
    },
    {
      "cell_type": "code",
      "metadata": {
        "id": "3TTaHsYQ_OjL"
      },
      "source": [
        ""
      ],
      "execution_count": null,
      "outputs": []
    }
  ]
}